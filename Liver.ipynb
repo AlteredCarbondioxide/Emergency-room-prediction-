{
  "nbformat": 4,
  "nbformat_minor": 0,
  "metadata": {
    "colab": {
      "provenance": [],
      "authorship_tag": "ABX9TyNrZ35bFvIkdlC0gsSo8lVm",
      "include_colab_link": true
    },
    "kernelspec": {
      "name": "python3",
      "display_name": "Python 3"
    },
    "language_info": {
      "name": "python"
    }
  },
  "cells": [
    {
      "cell_type": "markdown",
      "metadata": {
        "id": "view-in-github",
        "colab_type": "text"
      },
      "source": [
        "<a href=\"https://colab.research.google.com/github/AlteredCarbondioxide/Emergency-room-prediction-/blob/main/Liver.ipynb\" target=\"_parent\"><img src=\"https://colab.research.google.com/assets/colab-badge.svg\" alt=\"Open In Colab\"/></a>"
      ]
    },
    {
      "cell_type": "code",
      "execution_count": 1,
      "metadata": {
        "id": "cTYuMPaVd7zz"
      },
      "outputs": [],
      "source": [
        "import pandas as pd\n",
        "import numpy as np\n",
        "from sklearn.model_selection import train_test_split\n",
        "from sklearn.preprocessing import StandardScaler\n",
        "from sklearn.linear_model import LogisticRegression\n",
        "from sklearn.metrics import accuracy_score, f1_score, classification_report\n"
      ]
    },
    {
      "cell_type": "code",
      "source": [
        "from google.colab import files\n",
        "\n",
        "uploaded = files.upload()"
      ],
      "metadata": {
        "colab": {
          "base_uri": "https://localhost:8080/",
          "height": 73
        },
        "id": "faQYkxb1eIqx",
        "outputId": "7a844f3d-710e-46c4-dad1-f916189fd58b"
      },
      "execution_count": 2,
      "outputs": [
        {
          "output_type": "display_data",
          "data": {
            "text/plain": [
              "<IPython.core.display.HTML object>"
            ],
            "text/html": [
              "\n",
              "     <input type=\"file\" id=\"files-a66ac6a4-a91a-4821-9829-85dd16bb84da\" name=\"files[]\" multiple disabled\n",
              "        style=\"border:none\" />\n",
              "     <output id=\"result-a66ac6a4-a91a-4821-9829-85dd16bb84da\">\n",
              "      Upload widget is only available when the cell has been executed in the\n",
              "      current browser session. Please rerun this cell to enable.\n",
              "      </output>\n",
              "      <script>// Copyright 2017 Google LLC\n",
              "//\n",
              "// Licensed under the Apache License, Version 2.0 (the \"License\");\n",
              "// you may not use this file except in compliance with the License.\n",
              "// You may obtain a copy of the License at\n",
              "//\n",
              "//      http://www.apache.org/licenses/LICENSE-2.0\n",
              "//\n",
              "// Unless required by applicable law or agreed to in writing, software\n",
              "// distributed under the License is distributed on an \"AS IS\" BASIS,\n",
              "// WITHOUT WARRANTIES OR CONDITIONS OF ANY KIND, either express or implied.\n",
              "// See the License for the specific language governing permissions and\n",
              "// limitations under the License.\n",
              "\n",
              "/**\n",
              " * @fileoverview Helpers for google.colab Python module.\n",
              " */\n",
              "(function(scope) {\n",
              "function span(text, styleAttributes = {}) {\n",
              "  const element = document.createElement('span');\n",
              "  element.textContent = text;\n",
              "  for (const key of Object.keys(styleAttributes)) {\n",
              "    element.style[key] = styleAttributes[key];\n",
              "  }\n",
              "  return element;\n",
              "}\n",
              "\n",
              "// Max number of bytes which will be uploaded at a time.\n",
              "const MAX_PAYLOAD_SIZE = 100 * 1024;\n",
              "\n",
              "function _uploadFiles(inputId, outputId) {\n",
              "  const steps = uploadFilesStep(inputId, outputId);\n",
              "  const outputElement = document.getElementById(outputId);\n",
              "  // Cache steps on the outputElement to make it available for the next call\n",
              "  // to uploadFilesContinue from Python.\n",
              "  outputElement.steps = steps;\n",
              "\n",
              "  return _uploadFilesContinue(outputId);\n",
              "}\n",
              "\n",
              "// This is roughly an async generator (not supported in the browser yet),\n",
              "// where there are multiple asynchronous steps and the Python side is going\n",
              "// to poll for completion of each step.\n",
              "// This uses a Promise to block the python side on completion of each step,\n",
              "// then passes the result of the previous step as the input to the next step.\n",
              "function _uploadFilesContinue(outputId) {\n",
              "  const outputElement = document.getElementById(outputId);\n",
              "  const steps = outputElement.steps;\n",
              "\n",
              "  const next = steps.next(outputElement.lastPromiseValue);\n",
              "  return Promise.resolve(next.value.promise).then((value) => {\n",
              "    // Cache the last promise value to make it available to the next\n",
              "    // step of the generator.\n",
              "    outputElement.lastPromiseValue = value;\n",
              "    return next.value.response;\n",
              "  });\n",
              "}\n",
              "\n",
              "/**\n",
              " * Generator function which is called between each async step of the upload\n",
              " * process.\n",
              " * @param {string} inputId Element ID of the input file picker element.\n",
              " * @param {string} outputId Element ID of the output display.\n",
              " * @return {!Iterable<!Object>} Iterable of next steps.\n",
              " */\n",
              "function* uploadFilesStep(inputId, outputId) {\n",
              "  const inputElement = document.getElementById(inputId);\n",
              "  inputElement.disabled = false;\n",
              "\n",
              "  const outputElement = document.getElementById(outputId);\n",
              "  outputElement.innerHTML = '';\n",
              "\n",
              "  const pickedPromise = new Promise((resolve) => {\n",
              "    inputElement.addEventListener('change', (e) => {\n",
              "      resolve(e.target.files);\n",
              "    });\n",
              "  });\n",
              "\n",
              "  const cancel = document.createElement('button');\n",
              "  inputElement.parentElement.appendChild(cancel);\n",
              "  cancel.textContent = 'Cancel upload';\n",
              "  const cancelPromise = new Promise((resolve) => {\n",
              "    cancel.onclick = () => {\n",
              "      resolve(null);\n",
              "    };\n",
              "  });\n",
              "\n",
              "  // Wait for the user to pick the files.\n",
              "  const files = yield {\n",
              "    promise: Promise.race([pickedPromise, cancelPromise]),\n",
              "    response: {\n",
              "      action: 'starting',\n",
              "    }\n",
              "  };\n",
              "\n",
              "  cancel.remove();\n",
              "\n",
              "  // Disable the input element since further picks are not allowed.\n",
              "  inputElement.disabled = true;\n",
              "\n",
              "  if (!files) {\n",
              "    return {\n",
              "      response: {\n",
              "        action: 'complete',\n",
              "      }\n",
              "    };\n",
              "  }\n",
              "\n",
              "  for (const file of files) {\n",
              "    const li = document.createElement('li');\n",
              "    li.append(span(file.name, {fontWeight: 'bold'}));\n",
              "    li.append(span(\n",
              "        `(${file.type || 'n/a'}) - ${file.size} bytes, ` +\n",
              "        `last modified: ${\n",
              "            file.lastModifiedDate ? file.lastModifiedDate.toLocaleDateString() :\n",
              "                                    'n/a'} - `));\n",
              "    const percent = span('0% done');\n",
              "    li.appendChild(percent);\n",
              "\n",
              "    outputElement.appendChild(li);\n",
              "\n",
              "    const fileDataPromise = new Promise((resolve) => {\n",
              "      const reader = new FileReader();\n",
              "      reader.onload = (e) => {\n",
              "        resolve(e.target.result);\n",
              "      };\n",
              "      reader.readAsArrayBuffer(file);\n",
              "    });\n",
              "    // Wait for the data to be ready.\n",
              "    let fileData = yield {\n",
              "      promise: fileDataPromise,\n",
              "      response: {\n",
              "        action: 'continue',\n",
              "      }\n",
              "    };\n",
              "\n",
              "    // Use a chunked sending to avoid message size limits. See b/62115660.\n",
              "    let position = 0;\n",
              "    do {\n",
              "      const length = Math.min(fileData.byteLength - position, MAX_PAYLOAD_SIZE);\n",
              "      const chunk = new Uint8Array(fileData, position, length);\n",
              "      position += length;\n",
              "\n",
              "      const base64 = btoa(String.fromCharCode.apply(null, chunk));\n",
              "      yield {\n",
              "        response: {\n",
              "          action: 'append',\n",
              "          file: file.name,\n",
              "          data: base64,\n",
              "        },\n",
              "      };\n",
              "\n",
              "      let percentDone = fileData.byteLength === 0 ?\n",
              "          100 :\n",
              "          Math.round((position / fileData.byteLength) * 100);\n",
              "      percent.textContent = `${percentDone}% done`;\n",
              "\n",
              "    } while (position < fileData.byteLength);\n",
              "  }\n",
              "\n",
              "  // All done.\n",
              "  yield {\n",
              "    response: {\n",
              "      action: 'complete',\n",
              "    }\n",
              "  };\n",
              "}\n",
              "\n",
              "scope.google = scope.google || {};\n",
              "scope.google.colab = scope.google.colab || {};\n",
              "scope.google.colab._files = {\n",
              "  _uploadFiles,\n",
              "  _uploadFilesContinue,\n",
              "};\n",
              "})(self);\n",
              "</script> "
            ]
          },
          "metadata": {}
        },
        {
          "output_type": "stream",
          "name": "stdout",
          "text": [
            "Saving Indian Liver Patient Dataset (ILPD).csv to Indian Liver Patient Dataset (ILPD).csv\n"
          ]
        }
      ]
    },
    {
      "cell_type": "code",
      "source": [
        "import pandas as pd\n",
        "\n",
        "df = pd.read_csv(\"Indian Liver Patient Dataset (ILPD).csv\")"
      ],
      "metadata": {
        "id": "0wXHxFQKeN3h"
      },
      "execution_count": 3,
      "outputs": []
    },
    {
      "cell_type": "code",
      "source": [
        "!pip install optuna"
      ],
      "metadata": {
        "colab": {
          "base_uri": "https://localhost:8080/"
        },
        "id": "lZsieLBXeRZZ",
        "outputId": "51704fee-6502-44d7-a1e9-1ab16e412ffa"
      },
      "execution_count": 4,
      "outputs": [
        {
          "output_type": "stream",
          "name": "stdout",
          "text": [
            "Collecting optuna\n",
            "  Downloading optuna-4.2.1-py3-none-any.whl.metadata (17 kB)\n",
            "Collecting alembic>=1.5.0 (from optuna)\n",
            "  Downloading alembic-1.15.1-py3-none-any.whl.metadata (7.2 kB)\n",
            "Collecting colorlog (from optuna)\n",
            "  Downloading colorlog-6.9.0-py3-none-any.whl.metadata (10 kB)\n",
            "Requirement already satisfied: numpy in /usr/local/lib/python3.11/dist-packages (from optuna) (1.26.4)\n",
            "Requirement already satisfied: packaging>=20.0 in /usr/local/lib/python3.11/dist-packages (from optuna) (24.2)\n",
            "Requirement already satisfied: sqlalchemy>=1.4.2 in /usr/local/lib/python3.11/dist-packages (from optuna) (2.0.38)\n",
            "Requirement already satisfied: tqdm in /usr/local/lib/python3.11/dist-packages (from optuna) (4.67.1)\n",
            "Requirement already satisfied: PyYAML in /usr/local/lib/python3.11/dist-packages (from optuna) (6.0.2)\n",
            "Collecting Mako (from alembic>=1.5.0->optuna)\n",
            "  Downloading Mako-1.3.9-py3-none-any.whl.metadata (2.9 kB)\n",
            "Requirement already satisfied: typing-extensions>=4.12 in /usr/local/lib/python3.11/dist-packages (from alembic>=1.5.0->optuna) (4.12.2)\n",
            "Requirement already satisfied: greenlet!=0.4.17 in /usr/local/lib/python3.11/dist-packages (from sqlalchemy>=1.4.2->optuna) (3.1.1)\n",
            "Requirement already satisfied: MarkupSafe>=0.9.2 in /usr/local/lib/python3.11/dist-packages (from Mako->alembic>=1.5.0->optuna) (3.0.2)\n",
            "Downloading optuna-4.2.1-py3-none-any.whl (383 kB)\n",
            "\u001b[2K   \u001b[90m━━━━━━━━━━━━━━━━━━━━━━━━━━━━━━━━━━━━━━━━\u001b[0m \u001b[32m383.6/383.6 kB\u001b[0m \u001b[31m8.3 MB/s\u001b[0m eta \u001b[36m0:00:00\u001b[0m\n",
            "\u001b[?25hDownloading alembic-1.15.1-py3-none-any.whl (231 kB)\n",
            "\u001b[2K   \u001b[90m━━━━━━━━━━━━━━━━━━━━━━━━━━━━━━━━━━━━━━━━\u001b[0m \u001b[32m231.8/231.8 kB\u001b[0m \u001b[31m14.6 MB/s\u001b[0m eta \u001b[36m0:00:00\u001b[0m\n",
            "\u001b[?25hDownloading colorlog-6.9.0-py3-none-any.whl (11 kB)\n",
            "Downloading Mako-1.3.9-py3-none-any.whl (78 kB)\n",
            "\u001b[2K   \u001b[90m━━━━━━━━━━━━━━━━━━━━━━━━━━━━━━━━━━━━━━━━\u001b[0m \u001b[32m78.5/78.5 kB\u001b[0m \u001b[31m5.9 MB/s\u001b[0m eta \u001b[36m0:00:00\u001b[0m\n",
            "\u001b[?25hInstalling collected packages: Mako, colorlog, alembic, optuna\n",
            "Successfully installed Mako-1.3.9 alembic-1.15.1 colorlog-6.9.0 optuna-4.2.1\n"
          ]
        }
      ]
    },
    {
      "cell_type": "code",
      "source": [
        "\n",
        "# Drop rows with missing values (if any)\n",
        "df = df.dropna()\n",
        "\n",
        "# Convert 'gender' column into numerical values (Male -> 1, Female -> 0)\n",
        "df['gender'] = df['gender'].map({'Male': 1, 'Female': 0})\n",
        "\n",
        "# Split features (X) and target variable (y)\n",
        "X = df.drop(columns=['is_patient'])  # All columns except target\n",
        "y = df['is_patient']  # Target column\n",
        "\n",
        "# Split into training (80%) and testing (20%) datasets\n",
        "X_train, X_test, y_train, y_test = train_test_split(X, y, test_size=0.2, random_state=42)\n",
        "\n",
        "# Standardize numerical features (improves Logistic Regression performance)\n",
        "scaler = StandardScaler()\n",
        "X_train = scaler.fit_transform(X_train)\n",
        "X_test = scaler.transform(X_test)\n"
      ],
      "metadata": {
        "id": "-j0RwKrceVED"
      },
      "execution_count": 5,
      "outputs": []
    },
    {
      "cell_type": "code",
      "source": [
        "# Initialize and train Logistic Regression model\n",
        "log_reg = LogisticRegression()\n",
        "log_reg.fit(X_train, y_train)\n",
        "\n",
        "# Make predictions\n",
        "y_pred = log_reg.predict(X_test)\n",
        "\n",
        "# Evaluate the model\n",
        "accuracy = accuracy_score(y_test, y_pred)\n",
        "f1 = f1_score(y_test, y_pred)\n",
        "\n",
        "# Print results\n",
        "print(f\"Accuracy: {accuracy:.4f}\")\n",
        "print(f\"F1-score: {f1:.4f}\")\n",
        "print(\"Classification Report:\\n\", classification_report(y_test, y_pred))\n"
      ],
      "metadata": {
        "colab": {
          "base_uri": "https://localhost:8080/"
        },
        "id": "6N2m8jeLelaM",
        "outputId": "c663f35c-1bfd-4bd9-bdf4-e54e7d4d4ccf"
      },
      "execution_count": 6,
      "outputs": [
        {
          "output_type": "stream",
          "name": "stdout",
          "text": [
            "Accuracy: 0.6552\n",
            "F1-score: 0.7826\n",
            "Classification Report:\n",
            "               precision    recall  f1-score   support\n",
            "\n",
            "           1       0.65      0.99      0.78        73\n",
            "           2       0.80      0.09      0.17        43\n",
            "\n",
            "    accuracy                           0.66       116\n",
            "   macro avg       0.72      0.54      0.47       116\n",
            "weighted avg       0.70      0.66      0.55       116\n",
            "\n"
          ]
        }
      ]
    },
    {
      "cell_type": "code",
      "source": [
        "import optuna\n"
      ],
      "metadata": {
        "id": "rU3o_8W_equF"
      },
      "execution_count": 7,
      "outputs": []
    },
    {
      "cell_type": "code",
      "source": [
        "def objective(trial):\n",
        "    # Define hyperparameters to tune\n",
        "    C = trial.suggest_loguniform('C', 0.001, 10.0)  # Regularization strength\n",
        "    solver = trial.suggest_categorical('solver', ['liblinear', 'lbfgs'])  # Optimization method\n",
        "\n",
        "    # Train model with sampled hyperparameters\n",
        "    model = LogisticRegression(C=C, solver=solver, max_iter=1000)\n",
        "    model.fit(X_train, y_train)\n",
        "\n",
        "    # Evaluate the model\n",
        "    y_pred = model.predict(X_test)\n",
        "    accuracy = accuracy_score(y_test, y_pred)\n",
        "\n",
        "    return accuracy  # Optuna maximizes this score\n"
      ],
      "metadata": {
        "id": "ES8cFbDsezgw"
      },
      "execution_count": 8,
      "outputs": []
    },
    {
      "cell_type": "code",
      "source": [
        "study = optuna.create_study(direction='maximize')  # We want the highest accuracy\n",
        "study.optimize(objective, n_trials=20)  # Run 20 trials to find the best hyperparameters\n",
        "\n",
        "# Print best hyperparameters\n",
        "print(\"Best hyperparameters:\", study.best_params)\n",
        "print(\"Best accuracy:\", study.best_value)\n"
      ],
      "metadata": {
        "colab": {
          "base_uri": "https://localhost:8080/"
        },
        "id": "7KZtRbF1e2yW",
        "outputId": "0ee2d44d-763b-477c-9da8-ca13dad518a8"
      },
      "execution_count": 9,
      "outputs": [
        {
          "output_type": "stream",
          "name": "stderr",
          "text": [
            "[I 2025-03-12 03:52:28,329] A new study created in memory with name: no-name-cdc71da7-7c12-41b3-8df4-c7e014db5a7a\n",
            "<ipython-input-8-e1811ee3bb55>:3: FutureWarning: suggest_loguniform has been deprecated in v3.0.0. This feature will be removed in v6.0.0. See https://github.com/optuna/optuna/releases/tag/v3.0.0. Use suggest_float(..., log=True) instead.\n",
            "  C = trial.suggest_loguniform('C', 0.001, 10.0)  # Regularization strength\n",
            "[I 2025-03-12 03:52:28,338] Trial 0 finished with value: 0.646551724137931 and parameters: {'C': 0.0014526036405979488, 'solver': 'liblinear'}. Best is trial 0 with value: 0.646551724137931.\n",
            "<ipython-input-8-e1811ee3bb55>:3: FutureWarning: suggest_loguniform has been deprecated in v3.0.0. This feature will be removed in v6.0.0. See https://github.com/optuna/optuna/releases/tag/v3.0.0. Use suggest_float(..., log=True) instead.\n",
            "  C = trial.suggest_loguniform('C', 0.001, 10.0)  # Regularization strength\n",
            "[I 2025-03-12 03:52:28,344] Trial 1 finished with value: 0.646551724137931 and parameters: {'C': 0.026479158830846176, 'solver': 'liblinear'}. Best is trial 0 with value: 0.646551724137931.\n",
            "<ipython-input-8-e1811ee3bb55>:3: FutureWarning: suggest_loguniform has been deprecated in v3.0.0. This feature will be removed in v6.0.0. See https://github.com/optuna/optuna/releases/tag/v3.0.0. Use suggest_float(..., log=True) instead.\n",
            "  C = trial.suggest_loguniform('C', 0.001, 10.0)  # Regularization strength\n",
            "[I 2025-03-12 03:52:28,355] Trial 2 finished with value: 0.646551724137931 and parameters: {'C': 0.6063571613838491, 'solver': 'lbfgs'}. Best is trial 0 with value: 0.646551724137931.\n",
            "<ipython-input-8-e1811ee3bb55>:3: FutureWarning: suggest_loguniform has been deprecated in v3.0.0. This feature will be removed in v6.0.0. See https://github.com/optuna/optuna/releases/tag/v3.0.0. Use suggest_float(..., log=True) instead.\n",
            "  C = trial.suggest_loguniform('C', 0.001, 10.0)  # Regularization strength\n",
            "[I 2025-03-12 03:52:28,405] Trial 3 finished with value: 0.6637931034482759 and parameters: {'C': 1.9461656017556264, 'solver': 'lbfgs'}. Best is trial 3 with value: 0.6637931034482759.\n",
            "<ipython-input-8-e1811ee3bb55>:3: FutureWarning: suggest_loguniform has been deprecated in v3.0.0. This feature will be removed in v6.0.0. See https://github.com/optuna/optuna/releases/tag/v3.0.0. Use suggest_float(..., log=True) instead.\n",
            "  C = trial.suggest_loguniform('C', 0.001, 10.0)  # Regularization strength\n",
            "[I 2025-03-12 03:52:28,416] Trial 4 finished with value: 0.6551724137931034 and parameters: {'C': 0.960953036929241, 'solver': 'liblinear'}. Best is trial 3 with value: 0.6637931034482759.\n",
            "<ipython-input-8-e1811ee3bb55>:3: FutureWarning: suggest_loguniform has been deprecated in v3.0.0. This feature will be removed in v6.0.0. See https://github.com/optuna/optuna/releases/tag/v3.0.0. Use suggest_float(..., log=True) instead.\n",
            "  C = trial.suggest_loguniform('C', 0.001, 10.0)  # Regularization strength\n",
            "[I 2025-03-12 03:52:28,434] Trial 5 finished with value: 0.6293103448275862 and parameters: {'C': 0.0029169565817091163, 'solver': 'lbfgs'}. Best is trial 3 with value: 0.6637931034482759.\n",
            "<ipython-input-8-e1811ee3bb55>:3: FutureWarning: suggest_loguniform has been deprecated in v3.0.0. This feature will be removed in v6.0.0. See https://github.com/optuna/optuna/releases/tag/v3.0.0. Use suggest_float(..., log=True) instead.\n",
            "  C = trial.suggest_loguniform('C', 0.001, 10.0)  # Regularization strength\n",
            "[I 2025-03-12 03:52:28,464] Trial 6 finished with value: 0.6551724137931034 and parameters: {'C': 1.0912093458223546, 'solver': 'lbfgs'}. Best is trial 3 with value: 0.6637931034482759.\n",
            "<ipython-input-8-e1811ee3bb55>:3: FutureWarning: suggest_loguniform has been deprecated in v3.0.0. This feature will be removed in v6.0.0. See https://github.com/optuna/optuna/releases/tag/v3.0.0. Use suggest_float(..., log=True) instead.\n",
            "  C = trial.suggest_loguniform('C', 0.001, 10.0)  # Regularization strength\n",
            "[I 2025-03-12 03:52:28,496] Trial 7 finished with value: 0.6551724137931034 and parameters: {'C': 8.299744569796959, 'solver': 'lbfgs'}. Best is trial 3 with value: 0.6637931034482759.\n",
            "<ipython-input-8-e1811ee3bb55>:3: FutureWarning: suggest_loguniform has been deprecated in v3.0.0. This feature will be removed in v6.0.0. See https://github.com/optuna/optuna/releases/tag/v3.0.0. Use suggest_float(..., log=True) instead.\n",
            "  C = trial.suggest_loguniform('C', 0.001, 10.0)  # Regularization strength\n",
            "[I 2025-03-12 03:52:28,523] Trial 8 finished with value: 0.6293103448275862 and parameters: {'C': 0.1241720213855345, 'solver': 'lbfgs'}. Best is trial 3 with value: 0.6637931034482759.\n",
            "<ipython-input-8-e1811ee3bb55>:3: FutureWarning: suggest_loguniform has been deprecated in v3.0.0. This feature will be removed in v6.0.0. See https://github.com/optuna/optuna/releases/tag/v3.0.0. Use suggest_float(..., log=True) instead.\n",
            "  C = trial.suggest_loguniform('C', 0.001, 10.0)  # Regularization strength\n",
            "[I 2025-03-12 03:52:28,536] Trial 9 finished with value: 0.6637931034482759 and parameters: {'C': 0.012474021665121002, 'solver': 'liblinear'}. Best is trial 3 with value: 0.6637931034482759.\n",
            "<ipython-input-8-e1811ee3bb55>:3: FutureWarning: suggest_loguniform has been deprecated in v3.0.0. This feature will be removed in v6.0.0. See https://github.com/optuna/optuna/releases/tag/v3.0.0. Use suggest_float(..., log=True) instead.\n",
            "  C = trial.suggest_loguniform('C', 0.001, 10.0)  # Regularization strength\n",
            "[I 2025-03-12 03:52:28,588] Trial 10 finished with value: 0.6551724137931034 and parameters: {'C': 8.298189662484896, 'solver': 'lbfgs'}. Best is trial 3 with value: 0.6637931034482759.\n",
            "<ipython-input-8-e1811ee3bb55>:3: FutureWarning: suggest_loguniform has been deprecated in v3.0.0. This feature will be removed in v6.0.0. See https://github.com/optuna/optuna/releases/tag/v3.0.0. Use suggest_float(..., log=True) instead.\n",
            "  C = trial.suggest_loguniform('C', 0.001, 10.0)  # Regularization strength\n",
            "[I 2025-03-12 03:52:28,615] Trial 11 finished with value: 0.6551724137931034 and parameters: {'C': 0.02213220576523686, 'solver': 'liblinear'}. Best is trial 3 with value: 0.6637931034482759.\n",
            "<ipython-input-8-e1811ee3bb55>:3: FutureWarning: suggest_loguniform has been deprecated in v3.0.0. This feature will be removed in v6.0.0. See https://github.com/optuna/optuna/releases/tag/v3.0.0. Use suggest_float(..., log=True) instead.\n",
            "  C = trial.suggest_loguniform('C', 0.001, 10.0)  # Regularization strength\n",
            "[I 2025-03-12 03:52:28,630] Trial 12 finished with value: 0.6637931034482759 and parameters: {'C': 0.007586629254693371, 'solver': 'liblinear'}. Best is trial 3 with value: 0.6637931034482759.\n",
            "<ipython-input-8-e1811ee3bb55>:3: FutureWarning: suggest_loguniform has been deprecated in v3.0.0. This feature will be removed in v6.0.0. See https://github.com/optuna/optuna/releases/tag/v3.0.0. Use suggest_float(..., log=True) instead.\n",
            "  C = trial.suggest_loguniform('C', 0.001, 10.0)  # Regularization strength\n",
            "[I 2025-03-12 03:52:28,647] Trial 13 finished with value: 0.646551724137931 and parameters: {'C': 0.10435873075089128, 'solver': 'liblinear'}. Best is trial 3 with value: 0.6637931034482759.\n",
            "<ipython-input-8-e1811ee3bb55>:3: FutureWarning: suggest_loguniform has been deprecated in v3.0.0. This feature will be removed in v6.0.0. See https://github.com/optuna/optuna/releases/tag/v3.0.0. Use suggest_float(..., log=True) instead.\n",
            "  C = trial.suggest_loguniform('C', 0.001, 10.0)  # Regularization strength\n",
            "[I 2025-03-12 03:52:28,663] Trial 14 finished with value: 0.6379310344827587 and parameters: {'C': 0.0363166051387734, 'solver': 'lbfgs'}. Best is trial 3 with value: 0.6637931034482759.\n",
            "<ipython-input-8-e1811ee3bb55>:3: FutureWarning: suggest_loguniform has been deprecated in v3.0.0. This feature will be removed in v6.0.0. See https://github.com/optuna/optuna/releases/tag/v3.0.0. Use suggest_float(..., log=True) instead.\n",
            "  C = trial.suggest_loguniform('C', 0.001, 10.0)  # Regularization strength\n",
            "[I 2025-03-12 03:52:28,678] Trial 15 finished with value: 0.646551724137931 and parameters: {'C': 0.33226429806681645, 'solver': 'liblinear'}. Best is trial 3 with value: 0.6637931034482759.\n",
            "<ipython-input-8-e1811ee3bb55>:3: FutureWarning: suggest_loguniform has been deprecated in v3.0.0. This feature will be removed in v6.0.0. See https://github.com/optuna/optuna/releases/tag/v3.0.0. Use suggest_float(..., log=True) instead.\n",
            "  C = trial.suggest_loguniform('C', 0.001, 10.0)  # Regularization strength\n",
            "[I 2025-03-12 03:52:28,698] Trial 16 finished with value: 0.6637931034482759 and parameters: {'C': 3.6963174623275767, 'solver': 'lbfgs'}. Best is trial 3 with value: 0.6637931034482759.\n",
            "<ipython-input-8-e1811ee3bb55>:3: FutureWarning: suggest_loguniform has been deprecated in v3.0.0. This feature will be removed in v6.0.0. See https://github.com/optuna/optuna/releases/tag/v3.0.0. Use suggest_float(..., log=True) instead.\n",
            "  C = trial.suggest_loguniform('C', 0.001, 10.0)  # Regularization strength\n",
            "[I 2025-03-12 03:52:28,712] Trial 17 finished with value: 0.6637931034482759 and parameters: {'C': 0.009974828308493246, 'solver': 'liblinear'}. Best is trial 3 with value: 0.6637931034482759.\n",
            "<ipython-input-8-e1811ee3bb55>:3: FutureWarning: suggest_loguniform has been deprecated in v3.0.0. This feature will be removed in v6.0.0. See https://github.com/optuna/optuna/releases/tag/v3.0.0. Use suggest_float(..., log=True) instead.\n",
            "  C = trial.suggest_loguniform('C', 0.001, 10.0)  # Regularization strength\n",
            "[I 2025-03-12 03:52:28,736] Trial 18 finished with value: 0.6724137931034483 and parameters: {'C': 3.054605540844536, 'solver': 'lbfgs'}. Best is trial 18 with value: 0.6724137931034483.\n",
            "<ipython-input-8-e1811ee3bb55>:3: FutureWarning: suggest_loguniform has been deprecated in v3.0.0. This feature will be removed in v6.0.0. See https://github.com/optuna/optuna/releases/tag/v3.0.0. Use suggest_float(..., log=True) instead.\n",
            "  C = trial.suggest_loguniform('C', 0.001, 10.0)  # Regularization strength\n",
            "[I 2025-03-12 03:52:28,772] Trial 19 finished with value: 0.6637931034482759 and parameters: {'C': 2.1302181011671477, 'solver': 'lbfgs'}. Best is trial 18 with value: 0.6724137931034483.\n"
          ]
        },
        {
          "output_type": "stream",
          "name": "stdout",
          "text": [
            "Best hyperparameters: {'C': 3.054605540844536, 'solver': 'lbfgs'}\n",
            "Best accuracy: 0.6724137931034483\n"
          ]
        }
      ]
    },
    {
      "cell_type": "code",
      "source": [
        "from sklearn.ensemble import RandomForestClassifier\n",
        "\n",
        "# Initialize and train Random Forest model\n",
        "rf = RandomForestClassifier(random_state=42)\n",
        "rf.fit(X_train, y_train)\n",
        "\n",
        "# Make predictions\n",
        "y_pred_rf = rf.predict(X_test)\n",
        "\n",
        "# Evaluate the model\n",
        "accuracy_rf = accuracy_score(y_test, y_pred_rf)\n",
        "f1_rf = f1_score(y_test, y_pred_rf)\n",
        "\n",
        "# Print results\n",
        "print(f\"Random Forest Accuracy: {accuracy_rf:.4f}\")\n",
        "print(f\"Random Forest F1-score: {f1_rf:.4f}\")\n"
      ],
      "metadata": {
        "colab": {
          "base_uri": "https://localhost:8080/"
        },
        "id": "vUeiKlfgfcR1",
        "outputId": "dd19cc8f-34fb-4301-fdce-b69143c96267"
      },
      "execution_count": 10,
      "outputs": [
        {
          "output_type": "stream",
          "name": "stdout",
          "text": [
            "Random Forest Accuracy: 0.6552\n",
            "Random Forest F1-score: 0.7619\n"
          ]
        }
      ]
    },
    {
      "cell_type": "code",
      "source": [
        "def rf_objective(trial):\n",
        "    # Define hyperparameters to tune\n",
        "    n_estimators = trial.suggest_int('n_estimators', 50, 300)  # Number of trees\n",
        "    max_depth = trial.suggest_int('max_depth', 3, 20)  # Depth of each tree\n",
        "    min_samples_split = trial.suggest_int('min_samples_split', 2, 10)  # Min samples to split\n",
        "    min_samples_leaf = trial.suggest_int('min_samples_leaf', 1, 5)  # Min samples per leaf\n",
        "\n",
        "    # Train model with sampled hyperparameters\n",
        "    model = RandomForestClassifier(\n",
        "        n_estimators=n_estimators,\n",
        "        max_depth=max_depth,\n",
        "        min_samples_split=min_samples_split,\n",
        "        min_samples_leaf=min_samples_leaf,\n",
        "        random_state=42\n",
        "    )\n",
        "    model.fit(X_train, y_train)\n",
        "\n",
        "    # Evaluate model\n",
        "    y_pred = model.predict(X_test)\n",
        "    return accuracy_score(y_test, y_pred)  # Optuna maximizes accuracy\n",
        "\n",
        "# Run Optuna optimization\n",
        "study_rf = optuna.create_study(direction='maximize')\n",
        "study_rf.optimize(rf_objective, n_trials=20)\n",
        "\n",
        "# Print best parameters\n",
        "print(\"Best Random Forest parameters:\", study_rf.best_params)\n",
        "print(\"Best Random Forest accuracy:\", study_rf.best_value)\n"
      ],
      "metadata": {
        "colab": {
          "base_uri": "https://localhost:8080/"
        },
        "id": "QeVvhTPvffGw",
        "outputId": "4799f99c-9f35-42aa-a748-ed811e3cb513"
      },
      "execution_count": 11,
      "outputs": [
        {
          "output_type": "stream",
          "name": "stderr",
          "text": [
            "[I 2025-03-12 03:55:13,898] A new study created in memory with name: no-name-8fa815d6-c4ee-4bb6-b851-30f7a2ac75a1\n",
            "[I 2025-03-12 03:55:14,209] Trial 0 finished with value: 0.6120689655172413 and parameters: {'n_estimators': 73, 'max_depth': 10, 'min_samples_split': 10, 'min_samples_leaf': 3}. Best is trial 0 with value: 0.6120689655172413.\n",
            "[I 2025-03-12 03:55:15,289] Trial 1 finished with value: 0.6120689655172413 and parameters: {'n_estimators': 203, 'max_depth': 12, 'min_samples_split': 8, 'min_samples_leaf': 1}. Best is trial 0 with value: 0.6120689655172413.\n",
            "[I 2025-03-12 03:55:15,922] Trial 2 finished with value: 0.6293103448275862 and parameters: {'n_estimators': 82, 'max_depth': 10, 'min_samples_split': 2, 'min_samples_leaf': 4}. Best is trial 2 with value: 0.6293103448275862.\n",
            "[I 2025-03-12 03:55:16,777] Trial 3 finished with value: 0.646551724137931 and parameters: {'n_estimators': 178, 'max_depth': 3, 'min_samples_split': 5, 'min_samples_leaf': 4}. Best is trial 3 with value: 0.646551724137931.\n",
            "[I 2025-03-12 03:55:18,051] Trial 4 finished with value: 0.6206896551724138 and parameters: {'n_estimators': 267, 'max_depth': 15, 'min_samples_split': 6, 'min_samples_leaf': 4}. Best is trial 3 with value: 0.646551724137931.\n",
            "[I 2025-03-12 03:55:18,467] Trial 5 finished with value: 0.6120689655172413 and parameters: {'n_estimators': 108, 'max_depth': 11, 'min_samples_split': 3, 'min_samples_leaf': 2}. Best is trial 3 with value: 0.646551724137931.\n",
            "[I 2025-03-12 03:55:18,966] Trial 6 finished with value: 0.6379310344827587 and parameters: {'n_estimators': 229, 'max_depth': 10, 'min_samples_split': 8, 'min_samples_leaf': 2}. Best is trial 3 with value: 0.646551724137931.\n",
            "[I 2025-03-12 03:55:19,130] Trial 7 finished with value: 0.6206896551724138 and parameters: {'n_estimators': 80, 'max_depth': 8, 'min_samples_split': 4, 'min_samples_leaf': 3}. Best is trial 3 with value: 0.646551724137931.\n",
            "[I 2025-03-12 03:55:19,254] Trial 8 finished with value: 0.6379310344827587 and parameters: {'n_estimators': 62, 'max_depth': 8, 'min_samples_split': 7, 'min_samples_leaf': 5}. Best is trial 3 with value: 0.646551724137931.\n",
            "[I 2025-03-12 03:55:19,810] Trial 9 finished with value: 0.6293103448275862 and parameters: {'n_estimators': 282, 'max_depth': 7, 'min_samples_split': 2, 'min_samples_leaf': 1}. Best is trial 3 with value: 0.646551724137931.\n",
            "[I 2025-03-12 03:55:20,088] Trial 10 finished with value: 0.646551724137931 and parameters: {'n_estimators': 140, 'max_depth': 3, 'min_samples_split': 5, 'min_samples_leaf': 5}. Best is trial 3 with value: 0.646551724137931.\n",
            "[I 2025-03-12 03:55:20,348] Trial 11 finished with value: 0.6379310344827587 and parameters: {'n_estimators': 136, 'max_depth': 3, 'min_samples_split': 5, 'min_samples_leaf': 5}. Best is trial 3 with value: 0.646551724137931.\n",
            "[I 2025-03-12 03:55:20,630] Trial 12 finished with value: 0.646551724137931 and parameters: {'n_estimators': 151, 'max_depth': 3, 'min_samples_split': 5, 'min_samples_leaf': 4}. Best is trial 3 with value: 0.646551724137931.\n",
            "[I 2025-03-12 03:55:20,999] Trial 13 finished with value: 0.6293103448275862 and parameters: {'n_estimators': 187, 'max_depth': 5, 'min_samples_split': 4, 'min_samples_leaf': 5}. Best is trial 3 with value: 0.646551724137931.\n",
            "[I 2025-03-12 03:55:21,309] Trial 14 finished with value: 0.6206896551724138 and parameters: {'n_estimators': 145, 'max_depth': 18, 'min_samples_split': 6, 'min_samples_leaf': 4}. Best is trial 3 with value: 0.646551724137931.\n",
            "[I 2025-03-12 03:55:21,759] Trial 15 finished with value: 0.6206896551724138 and parameters: {'n_estimators': 229, 'max_depth': 5, 'min_samples_split': 4, 'min_samples_leaf': 5}. Best is trial 3 with value: 0.646551724137931.\n",
            "[I 2025-03-12 03:55:22,128] Trial 16 finished with value: 0.6293103448275862 and parameters: {'n_estimators': 170, 'max_depth': 20, 'min_samples_split': 7, 'min_samples_leaf': 4}. Best is trial 3 with value: 0.646551724137931.\n",
            "[I 2025-03-12 03:55:22,395] Trial 17 finished with value: 0.6293103448275862 and parameters: {'n_estimators': 131, 'max_depth': 5, 'min_samples_split': 5, 'min_samples_leaf': 5}. Best is trial 3 with value: 0.646551724137931.\n",
            "[I 2025-03-12 03:55:22,844] Trial 18 finished with value: 0.6293103448275862 and parameters: {'n_estimators': 215, 'max_depth': 13, 'min_samples_split': 3, 'min_samples_leaf': 3}. Best is trial 3 with value: 0.646551724137931.\n",
            "[I 2025-03-12 03:55:23,075] Trial 19 finished with value: 0.6293103448275862 and parameters: {'n_estimators': 109, 'max_depth': 3, 'min_samples_split': 6, 'min_samples_leaf': 4}. Best is trial 3 with value: 0.646551724137931.\n"
          ]
        },
        {
          "output_type": "stream",
          "name": "stdout",
          "text": [
            "Best Random Forest parameters: {'n_estimators': 178, 'max_depth': 3, 'min_samples_split': 5, 'min_samples_leaf': 4}\n",
            "Best Random Forest accuracy: 0.646551724137931\n"
          ]
        }
      ]
    },
    {
      "cell_type": "code",
      "source": [
        "# Convert target labels: Change 2 → 1, and 1 → 0\n",
        "y = y.replace({2: 1, 1: 0})\n",
        "\n",
        "# Re-split the dataset (since y changed)\n",
        "X_train, X_test, y_train, y_test = train_test_split(X, y, test_size=0.2, random_state=42)\n"
      ],
      "metadata": {
        "id": "KAMIR88Pfmk2"
      },
      "execution_count": 13,
      "outputs": []
    },
    {
      "cell_type": "code",
      "source": [
        "from xgboost import XGBClassifier\n",
        "\n",
        "# Initialize and train XGBoost model\n",
        "xgb = XGBClassifier(use_label_encoder=False, eval_metric='logloss', random_state=42)\n",
        "xgb.fit(X_train, y_train)\n",
        "\n",
        "# Make predictions\n",
        "y_pred_xgb = xgb.predict(X_test)\n",
        "\n",
        "# Evaluate the model\n",
        "accuracy_xgb = accuracy_score(y_test, y_pred_xgb)\n",
        "f1_xgb = f1_score(y_test, y_pred_xgb)\n",
        "\n",
        "# Print results\n",
        "print(f\"XGBoost Accuracy: {accuracy_xgb:.4f}\")\n",
        "print(f\"XGBoost F1-score: {f1_xgb:.4f}\")\n"
      ],
      "metadata": {
        "colab": {
          "base_uri": "https://localhost:8080/"
        },
        "id": "IA2DWWbGfxvu",
        "outputId": "a904d7a0-843d-4822-d693-254181023c76"
      },
      "execution_count": 14,
      "outputs": [
        {
          "output_type": "stream",
          "name": "stderr",
          "text": [
            "/usr/local/lib/python3.11/dist-packages/xgboost/core.py:158: UserWarning: [03:56:29] WARNING: /workspace/src/learner.cc:740: \n",
            "Parameters: { \"use_label_encoder\" } are not used.\n",
            "\n",
            "  warnings.warn(smsg, UserWarning)\n"
          ]
        },
        {
          "output_type": "stream",
          "name": "stdout",
          "text": [
            "XGBoost Accuracy: 0.6724\n",
            "XGBoost F1-score: 0.3871\n"
          ]
        }
      ]
    },
    {
      "cell_type": "code",
      "source": [
        "def xgb_objective(trial):\n",
        "    # Define hyperparameters to tune\n",
        "    n_estimators = trial.suggest_int('n_estimators', 50, 300)\n",
        "    max_depth = trial.suggest_int('max_depth', 3, 15)\n",
        "    learning_rate = trial.suggest_loguniform('learning_rate', 0.01, 0.3)\n",
        "    colsample_bytree = trial.suggest_uniform('colsample_bytree', 0.5, 1.0)\n",
        "\n",
        "    # Train model with sampled hyperparameters\n",
        "    model = XGBClassifier(\n",
        "        n_estimators=n_estimators,\n",
        "        max_depth=max_depth,\n",
        "        learning_rate=learning_rate,\n",
        "        colsample_bytree=colsample_bytree,\n",
        "        use_label_encoder=False,\n",
        "        eval_metric='logloss',\n",
        "        random_state=42\n",
        "    )\n",
        "    model.fit(X_train, y_train)\n",
        "\n",
        "    # Evaluate model\n",
        "    y_pred = model.predict(X_test)\n",
        "    return accuracy_score(y_test, y_pred)  # Optuna maximizes accuracy\n",
        "\n",
        "# Run Optuna optimization\n",
        "study_xgb = optuna.create_study(direction='maximize')\n",
        "study_xgb.optimize(xgb_objective, n_trials=20)\n",
        "\n",
        "# Print best parameters\n",
        "print(\"Best XGBoost parameters:\", study_xgb.best_params)\n",
        "print(\"Best XGBoost accuracy:\", study_xgb.best_value)\n"
      ],
      "metadata": {
        "colab": {
          "base_uri": "https://localhost:8080/"
        },
        "id": "B-wHkwbhfzwS",
        "outputId": "6e60130f-1288-41b9-faed-c4288bd7d834"
      },
      "execution_count": 15,
      "outputs": [
        {
          "output_type": "stream",
          "name": "stderr",
          "text": [
            "[I 2025-03-12 03:56:38,361] A new study created in memory with name: no-name-9331d540-fcb4-4e30-aa71-48c81b6a2f6e\n",
            "<ipython-input-15-d815b3c63073>:5: FutureWarning: suggest_loguniform has been deprecated in v3.0.0. This feature will be removed in v6.0.0. See https://github.com/optuna/optuna/releases/tag/v3.0.0. Use suggest_float(..., log=True) instead.\n",
            "  learning_rate = trial.suggest_loguniform('learning_rate', 0.01, 0.3)\n",
            "<ipython-input-15-d815b3c63073>:6: FutureWarning: suggest_uniform has been deprecated in v3.0.0. This feature will be removed in v6.0.0. See https://github.com/optuna/optuna/releases/tag/v3.0.0. Use suggest_float instead.\n",
            "  colsample_bytree = trial.suggest_uniform('colsample_bytree', 0.5, 1.0)\n",
            "/usr/local/lib/python3.11/dist-packages/xgboost/core.py:158: UserWarning: [03:56:38] WARNING: /workspace/src/learner.cc:740: \n",
            "Parameters: { \"use_label_encoder\" } are not used.\n",
            "\n",
            "  warnings.warn(smsg, UserWarning)\n",
            "[I 2025-03-12 03:56:39,410] Trial 0 finished with value: 0.6206896551724138 and parameters: {'n_estimators': 67, 'max_depth': 11, 'learning_rate': 0.01369510498040458, 'colsample_bytree': 0.8184974843335472}. Best is trial 0 with value: 0.6206896551724138.\n",
            "<ipython-input-15-d815b3c63073>:5: FutureWarning: suggest_loguniform has been deprecated in v3.0.0. This feature will be removed in v6.0.0. See https://github.com/optuna/optuna/releases/tag/v3.0.0. Use suggest_float(..., log=True) instead.\n",
            "  learning_rate = trial.suggest_loguniform('learning_rate', 0.01, 0.3)\n",
            "<ipython-input-15-d815b3c63073>:6: FutureWarning: suggest_uniform has been deprecated in v3.0.0. This feature will be removed in v6.0.0. See https://github.com/optuna/optuna/releases/tag/v3.0.0. Use suggest_float instead.\n",
            "  colsample_bytree = trial.suggest_uniform('colsample_bytree', 0.5, 1.0)\n",
            "/usr/local/lib/python3.11/dist-packages/xgboost/core.py:158: UserWarning: [03:56:39] WARNING: /workspace/src/learner.cc:740: \n",
            "Parameters: { \"use_label_encoder\" } are not used.\n",
            "\n",
            "  warnings.warn(smsg, UserWarning)\n",
            "[I 2025-03-12 03:56:39,548] Trial 1 finished with value: 0.6810344827586207 and parameters: {'n_estimators': 91, 'max_depth': 5, 'learning_rate': 0.15177445742768433, 'colsample_bytree': 0.7310689376099028}. Best is trial 1 with value: 0.6810344827586207.\n",
            "<ipython-input-15-d815b3c63073>:5: FutureWarning: suggest_loguniform has been deprecated in v3.0.0. This feature will be removed in v6.0.0. See https://github.com/optuna/optuna/releases/tag/v3.0.0. Use suggest_float(..., log=True) instead.\n",
            "  learning_rate = trial.suggest_loguniform('learning_rate', 0.01, 0.3)\n",
            "<ipython-input-15-d815b3c63073>:6: FutureWarning: suggest_uniform has been deprecated in v3.0.0. This feature will be removed in v6.0.0. See https://github.com/optuna/optuna/releases/tag/v3.0.0. Use suggest_float instead.\n",
            "  colsample_bytree = trial.suggest_uniform('colsample_bytree', 0.5, 1.0)\n",
            "/usr/local/lib/python3.11/dist-packages/xgboost/core.py:158: UserWarning: [03:56:39] WARNING: /workspace/src/learner.cc:740: \n",
            "Parameters: { \"use_label_encoder\" } are not used.\n",
            "\n",
            "  warnings.warn(smsg, UserWarning)\n",
            "[I 2025-03-12 03:56:40,016] Trial 2 finished with value: 0.646551724137931 and parameters: {'n_estimators': 150, 'max_depth': 6, 'learning_rate': 0.02925310471664523, 'colsample_bytree': 0.5275107826307206}. Best is trial 1 with value: 0.6810344827586207.\n",
            "<ipython-input-15-d815b3c63073>:5: FutureWarning: suggest_loguniform has been deprecated in v3.0.0. This feature will be removed in v6.0.0. See https://github.com/optuna/optuna/releases/tag/v3.0.0. Use suggest_float(..., log=True) instead.\n",
            "  learning_rate = trial.suggest_loguniform('learning_rate', 0.01, 0.3)\n",
            "<ipython-input-15-d815b3c63073>:6: FutureWarning: suggest_uniform has been deprecated in v3.0.0. This feature will be removed in v6.0.0. See https://github.com/optuna/optuna/releases/tag/v3.0.0. Use suggest_float instead.\n",
            "  colsample_bytree = trial.suggest_uniform('colsample_bytree', 0.5, 1.0)\n",
            "/usr/local/lib/python3.11/dist-packages/xgboost/core.py:158: UserWarning: [03:56:40] WARNING: /workspace/src/learner.cc:740: \n",
            "Parameters: { \"use_label_encoder\" } are not used.\n",
            "\n",
            "  warnings.warn(smsg, UserWarning)\n",
            "[I 2025-03-12 03:56:40,319] Trial 3 finished with value: 0.6896551724137931 and parameters: {'n_estimators': 268, 'max_depth': 4, 'learning_rate': 0.24531847889906078, 'colsample_bytree': 0.6992708287154168}. Best is trial 3 with value: 0.6896551724137931.\n",
            "<ipython-input-15-d815b3c63073>:5: FutureWarning: suggest_loguniform has been deprecated in v3.0.0. This feature will be removed in v6.0.0. See https://github.com/optuna/optuna/releases/tag/v3.0.0. Use suggest_float(..., log=True) instead.\n",
            "  learning_rate = trial.suggest_loguniform('learning_rate', 0.01, 0.3)\n",
            "<ipython-input-15-d815b3c63073>:6: FutureWarning: suggest_uniform has been deprecated in v3.0.0. This feature will be removed in v6.0.0. See https://github.com/optuna/optuna/releases/tag/v3.0.0. Use suggest_float instead.\n",
            "  colsample_bytree = trial.suggest_uniform('colsample_bytree', 0.5, 1.0)\n",
            "/usr/local/lib/python3.11/dist-packages/xgboost/core.py:158: UserWarning: [03:56:40] WARNING: /workspace/src/learner.cc:740: \n",
            "Parameters: { \"use_label_encoder\" } are not used.\n",
            "\n",
            "  warnings.warn(smsg, UserWarning)\n",
            "[I 2025-03-12 03:56:41,241] Trial 4 finished with value: 0.6206896551724138 and parameters: {'n_estimators': 173, 'max_depth': 14, 'learning_rate': 0.013940854506800278, 'colsample_bytree': 0.6294348354397075}. Best is trial 3 with value: 0.6896551724137931.\n",
            "<ipython-input-15-d815b3c63073>:5: FutureWarning: suggest_loguniform has been deprecated in v3.0.0. This feature will be removed in v6.0.0. See https://github.com/optuna/optuna/releases/tag/v3.0.0. Use suggest_float(..., log=True) instead.\n",
            "  learning_rate = trial.suggest_loguniform('learning_rate', 0.01, 0.3)\n",
            "<ipython-input-15-d815b3c63073>:6: FutureWarning: suggest_uniform has been deprecated in v3.0.0. This feature will be removed in v6.0.0. See https://github.com/optuna/optuna/releases/tag/v3.0.0. Use suggest_float instead.\n",
            "  colsample_bytree = trial.suggest_uniform('colsample_bytree', 0.5, 1.0)\n",
            "/usr/local/lib/python3.11/dist-packages/xgboost/core.py:158: UserWarning: [03:56:41] WARNING: /workspace/src/learner.cc:740: \n",
            "Parameters: { \"use_label_encoder\" } are not used.\n",
            "\n",
            "  warnings.warn(smsg, UserWarning)\n",
            "[I 2025-03-12 03:56:41,917] Trial 5 finished with value: 0.6810344827586207 and parameters: {'n_estimators': 279, 'max_depth': 8, 'learning_rate': 0.1277546656182402, 'colsample_bytree': 0.8870390238588204}. Best is trial 3 with value: 0.6896551724137931.\n",
            "<ipython-input-15-d815b3c63073>:5: FutureWarning: suggest_loguniform has been deprecated in v3.0.0. This feature will be removed in v6.0.0. See https://github.com/optuna/optuna/releases/tag/v3.0.0. Use suggest_float(..., log=True) instead.\n",
            "  learning_rate = trial.suggest_loguniform('learning_rate', 0.01, 0.3)\n",
            "<ipython-input-15-d815b3c63073>:6: FutureWarning: suggest_uniform has been deprecated in v3.0.0. This feature will be removed in v6.0.0. See https://github.com/optuna/optuna/releases/tag/v3.0.0. Use suggest_float instead.\n",
            "  colsample_bytree = trial.suggest_uniform('colsample_bytree', 0.5, 1.0)\n",
            "/usr/local/lib/python3.11/dist-packages/xgboost/core.py:158: UserWarning: [03:56:42] WARNING: /workspace/src/learner.cc:740: \n",
            "Parameters: { \"use_label_encoder\" } are not used.\n",
            "\n",
            "  warnings.warn(smsg, UserWarning)\n",
            "[I 2025-03-12 03:56:42,482] Trial 6 finished with value: 0.6206896551724138 and parameters: {'n_estimators': 252, 'max_depth': 4, 'learning_rate': 0.03722943599040086, 'colsample_bytree': 0.6526053005109731}. Best is trial 3 with value: 0.6896551724137931.\n",
            "<ipython-input-15-d815b3c63073>:5: FutureWarning: suggest_loguniform has been deprecated in v3.0.0. This feature will be removed in v6.0.0. See https://github.com/optuna/optuna/releases/tag/v3.0.0. Use suggest_float(..., log=True) instead.\n",
            "  learning_rate = trial.suggest_loguniform('learning_rate', 0.01, 0.3)\n",
            "<ipython-input-15-d815b3c63073>:6: FutureWarning: suggest_uniform has been deprecated in v3.0.0. This feature will be removed in v6.0.0. See https://github.com/optuna/optuna/releases/tag/v3.0.0. Use suggest_float instead.\n",
            "  colsample_bytree = trial.suggest_uniform('colsample_bytree', 0.5, 1.0)\n",
            "/usr/local/lib/python3.11/dist-packages/xgboost/core.py:158: UserWarning: [03:56:42] WARNING: /workspace/src/learner.cc:740: \n",
            "Parameters: { \"use_label_encoder\" } are not used.\n",
            "\n",
            "  warnings.warn(smsg, UserWarning)\n",
            "[I 2025-03-12 03:56:42,525] Trial 7 finished with value: 0.6293103448275862 and parameters: {'n_estimators': 69, 'max_depth': 4, 'learning_rate': 0.0418443983448619, 'colsample_bytree': 0.5019317236927476}. Best is trial 3 with value: 0.6896551724137931.\n",
            "<ipython-input-15-d815b3c63073>:5: FutureWarning: suggest_loguniform has been deprecated in v3.0.0. This feature will be removed in v6.0.0. See https://github.com/optuna/optuna/releases/tag/v3.0.0. Use suggest_float(..., log=True) instead.\n",
            "  learning_rate = trial.suggest_loguniform('learning_rate', 0.01, 0.3)\n",
            "<ipython-input-15-d815b3c63073>:6: FutureWarning: suggest_uniform has been deprecated in v3.0.0. This feature will be removed in v6.0.0. See https://github.com/optuna/optuna/releases/tag/v3.0.0. Use suggest_float instead.\n",
            "  colsample_bytree = trial.suggest_uniform('colsample_bytree', 0.5, 1.0)\n",
            "/usr/local/lib/python3.11/dist-packages/xgboost/core.py:158: UserWarning: [03:56:42] WARNING: /workspace/src/learner.cc:740: \n",
            "Parameters: { \"use_label_encoder\" } are not used.\n",
            "\n",
            "  warnings.warn(smsg, UserWarning)\n",
            "[I 2025-03-12 03:56:42,597] Trial 8 finished with value: 0.6896551724137931 and parameters: {'n_estimators': 71, 'max_depth': 14, 'learning_rate': 0.13789625292589014, 'colsample_bytree': 0.6278633182663388}. Best is trial 3 with value: 0.6896551724137931.\n",
            "<ipython-input-15-d815b3c63073>:5: FutureWarning: suggest_loguniform has been deprecated in v3.0.0. This feature will be removed in v6.0.0. See https://github.com/optuna/optuna/releases/tag/v3.0.0. Use suggest_float(..., log=True) instead.\n",
            "  learning_rate = trial.suggest_loguniform('learning_rate', 0.01, 0.3)\n",
            "<ipython-input-15-d815b3c63073>:6: FutureWarning: suggest_uniform has been deprecated in v3.0.0. This feature will be removed in v6.0.0. See https://github.com/optuna/optuna/releases/tag/v3.0.0. Use suggest_float instead.\n",
            "  colsample_bytree = trial.suggest_uniform('colsample_bytree', 0.5, 1.0)\n",
            "/usr/local/lib/python3.11/dist-packages/xgboost/core.py:158: UserWarning: [03:56:42] WARNING: /workspace/src/learner.cc:740: \n",
            "Parameters: { \"use_label_encoder\" } are not used.\n",
            "\n",
            "  warnings.warn(smsg, UserWarning)\n",
            "[I 2025-03-12 03:56:42,804] Trial 9 finished with value: 0.6206896551724138 and parameters: {'n_estimators': 203, 'max_depth': 15, 'learning_rate': 0.015237197646994294, 'colsample_bytree': 0.5353758795310004}. Best is trial 3 with value: 0.6896551724137931.\n",
            "<ipython-input-15-d815b3c63073>:5: FutureWarning: suggest_loguniform has been deprecated in v3.0.0. This feature will be removed in v6.0.0. See https://github.com/optuna/optuna/releases/tag/v3.0.0. Use suggest_float(..., log=True) instead.\n",
            "  learning_rate = trial.suggest_loguniform('learning_rate', 0.01, 0.3)\n",
            "<ipython-input-15-d815b3c63073>:6: FutureWarning: suggest_uniform has been deprecated in v3.0.0. This feature will be removed in v6.0.0. See https://github.com/optuna/optuna/releases/tag/v3.0.0. Use suggest_float instead.\n",
            "  colsample_bytree = trial.suggest_uniform('colsample_bytree', 0.5, 1.0)\n",
            "/usr/local/lib/python3.11/dist-packages/xgboost/core.py:158: UserWarning: [03:56:42] WARNING: /workspace/src/learner.cc:740: \n",
            "Parameters: { \"use_label_encoder\" } are not used.\n",
            "\n",
            "  warnings.warn(smsg, UserWarning)\n",
            "[I 2025-03-12 03:56:42,938] Trial 10 finished with value: 0.6896551724137931 and parameters: {'n_estimators': 225, 'max_depth': 9, 'learning_rate': 0.24466686945755894, 'colsample_bytree': 0.9791487475482519}. Best is trial 3 with value: 0.6896551724137931.\n",
            "<ipython-input-15-d815b3c63073>:5: FutureWarning: suggest_loguniform has been deprecated in v3.0.0. This feature will be removed in v6.0.0. See https://github.com/optuna/optuna/releases/tag/v3.0.0. Use suggest_float(..., log=True) instead.\n",
            "  learning_rate = trial.suggest_loguniform('learning_rate', 0.01, 0.3)\n",
            "<ipython-input-15-d815b3c63073>:6: FutureWarning: suggest_uniform has been deprecated in v3.0.0. This feature will be removed in v6.0.0. See https://github.com/optuna/optuna/releases/tag/v3.0.0. Use suggest_float instead.\n",
            "  colsample_bytree = trial.suggest_uniform('colsample_bytree', 0.5, 1.0)\n",
            "/usr/local/lib/python3.11/dist-packages/xgboost/core.py:158: UserWarning: [03:56:42] WARNING: /workspace/src/learner.cc:740: \n",
            "Parameters: { \"use_label_encoder\" } are not used.\n",
            "\n",
            "  warnings.warn(smsg, UserWarning)\n",
            "[I 2025-03-12 03:56:43,060] Trial 11 finished with value: 0.6551724137931034 and parameters: {'n_estimators': 128, 'max_depth': 12, 'learning_rate': 0.10680869263887842, 'colsample_bytree': 0.6957248870999105}. Best is trial 3 with value: 0.6896551724137931.\n",
            "<ipython-input-15-d815b3c63073>:5: FutureWarning: suggest_loguniform has been deprecated in v3.0.0. This feature will be removed in v6.0.0. See https://github.com/optuna/optuna/releases/tag/v3.0.0. Use suggest_float(..., log=True) instead.\n",
            "  learning_rate = trial.suggest_loguniform('learning_rate', 0.01, 0.3)\n",
            "<ipython-input-15-d815b3c63073>:6: FutureWarning: suggest_uniform has been deprecated in v3.0.0. This feature will be removed in v6.0.0. See https://github.com/optuna/optuna/releases/tag/v3.0.0. Use suggest_float instead.\n",
            "  colsample_bytree = trial.suggest_uniform('colsample_bytree', 0.5, 1.0)\n",
            "/usr/local/lib/python3.11/dist-packages/xgboost/core.py:158: UserWarning: [03:56:43] WARNING: /workspace/src/learner.cc:740: \n",
            "Parameters: { \"use_label_encoder\" } are not used.\n",
            "\n",
            "  warnings.warn(smsg, UserWarning)\n",
            "[I 2025-03-12 03:56:43,205] Trial 12 finished with value: 0.6896551724137931 and parameters: {'n_estimators': 297, 'max_depth': 7, 'learning_rate': 0.2883581464819739, 'colsample_bytree': 0.8078044056657822}. Best is trial 3 with value: 0.6896551724137931.\n",
            "<ipython-input-15-d815b3c63073>:5: FutureWarning: suggest_loguniform has been deprecated in v3.0.0. This feature will be removed in v6.0.0. See https://github.com/optuna/optuna/releases/tag/v3.0.0. Use suggest_float(..., log=True) instead.\n",
            "  learning_rate = trial.suggest_loguniform('learning_rate', 0.01, 0.3)\n",
            "<ipython-input-15-d815b3c63073>:6: FutureWarning: suggest_uniform has been deprecated in v3.0.0. This feature will be removed in v6.0.0. See https://github.com/optuna/optuna/releases/tag/v3.0.0. Use suggest_float instead.\n",
            "  colsample_bytree = trial.suggest_uniform('colsample_bytree', 0.5, 1.0)\n",
            "/usr/local/lib/python3.11/dist-packages/xgboost/core.py:158: UserWarning: [03:56:43] WARNING: /workspace/src/learner.cc:740: \n",
            "Parameters: { \"use_label_encoder\" } are not used.\n",
            "\n",
            "  warnings.warn(smsg, UserWarning)\n",
            "[I 2025-03-12 03:56:43,329] Trial 13 finished with value: 0.6293103448275862 and parameters: {'n_estimators': 108, 'max_depth': 12, 'learning_rate': 0.07908247133496048, 'colsample_bytree': 0.6090330890554797}. Best is trial 3 with value: 0.6896551724137931.\n",
            "<ipython-input-15-d815b3c63073>:5: FutureWarning: suggest_loguniform has been deprecated in v3.0.0. This feature will be removed in v6.0.0. See https://github.com/optuna/optuna/releases/tag/v3.0.0. Use suggest_float(..., log=True) instead.\n",
            "  learning_rate = trial.suggest_loguniform('learning_rate', 0.01, 0.3)\n",
            "<ipython-input-15-d815b3c63073>:6: FutureWarning: suggest_uniform has been deprecated in v3.0.0. This feature will be removed in v6.0.0. See https://github.com/optuna/optuna/releases/tag/v3.0.0. Use suggest_float instead.\n",
            "  colsample_bytree = trial.suggest_uniform('colsample_bytree', 0.5, 1.0)\n",
            "/usr/local/lib/python3.11/dist-packages/xgboost/core.py:158: UserWarning: [03:56:43] WARNING: /workspace/src/learner.cc:740: \n",
            "Parameters: { \"use_label_encoder\" } are not used.\n",
            "\n",
            "  warnings.warn(smsg, UserWarning)\n",
            "[I 2025-03-12 03:56:43,446] Trial 14 finished with value: 0.6637931034482759 and parameters: {'n_estimators': 211, 'max_depth': 3, 'learning_rate': 0.18674546075337162, 'colsample_bytree': 0.7772931822410252}. Best is trial 3 with value: 0.6896551724137931.\n",
            "<ipython-input-15-d815b3c63073>:5: FutureWarning: suggest_loguniform has been deprecated in v3.0.0. This feature will be removed in v6.0.0. See https://github.com/optuna/optuna/releases/tag/v3.0.0. Use suggest_float(..., log=True) instead.\n",
            "  learning_rate = trial.suggest_loguniform('learning_rate', 0.01, 0.3)\n",
            "<ipython-input-15-d815b3c63073>:6: FutureWarning: suggest_uniform has been deprecated in v3.0.0. This feature will be removed in v6.0.0. See https://github.com/optuna/optuna/releases/tag/v3.0.0. Use suggest_float instead.\n",
            "  colsample_bytree = trial.suggest_uniform('colsample_bytree', 0.5, 1.0)\n",
            "/usr/local/lib/python3.11/dist-packages/xgboost/core.py:158: UserWarning: [03:56:43] WARNING: /workspace/src/learner.cc:740: \n",
            "Parameters: { \"use_label_encoder\" } are not used.\n",
            "\n",
            "  warnings.warn(smsg, UserWarning)\n",
            "[I 2025-03-12 03:56:43,623] Trial 15 finished with value: 0.6724137931034483 and parameters: {'n_estimators': 250, 'max_depth': 10, 'learning_rate': 0.079973074064244, 'colsample_bytree': 0.5790015513050613}. Best is trial 3 with value: 0.6896551724137931.\n",
            "<ipython-input-15-d815b3c63073>:5: FutureWarning: suggest_loguniform has been deprecated in v3.0.0. This feature will be removed in v6.0.0. See https://github.com/optuna/optuna/releases/tag/v3.0.0. Use suggest_float(..., log=True) instead.\n",
            "  learning_rate = trial.suggest_loguniform('learning_rate', 0.01, 0.3)\n",
            "<ipython-input-15-d815b3c63073>:6: FutureWarning: suggest_uniform has been deprecated in v3.0.0. This feature will be removed in v6.0.0. See https://github.com/optuna/optuna/releases/tag/v3.0.0. Use suggest_float instead.\n",
            "  colsample_bytree = trial.suggest_uniform('colsample_bytree', 0.5, 1.0)\n",
            "/usr/local/lib/python3.11/dist-packages/xgboost/core.py:158: UserWarning: [03:56:43] WARNING: /workspace/src/learner.cc:740: \n",
            "Parameters: { \"use_label_encoder\" } are not used.\n",
            "\n",
            "  warnings.warn(smsg, UserWarning)\n",
            "[I 2025-03-12 03:56:43,754] Trial 16 finished with value: 0.6896551724137931 and parameters: {'n_estimators': 178, 'max_depth': 14, 'learning_rate': 0.20735990617339692, 'colsample_bytree': 0.6892934725871743}. Best is trial 3 with value: 0.6896551724137931.\n",
            "<ipython-input-15-d815b3c63073>:5: FutureWarning: suggest_loguniform has been deprecated in v3.0.0. This feature will be removed in v6.0.0. See https://github.com/optuna/optuna/releases/tag/v3.0.0. Use suggest_float(..., log=True) instead.\n",
            "  learning_rate = trial.suggest_loguniform('learning_rate', 0.01, 0.3)\n",
            "<ipython-input-15-d815b3c63073>:6: FutureWarning: suggest_uniform has been deprecated in v3.0.0. This feature will be removed in v6.0.0. See https://github.com/optuna/optuna/releases/tag/v3.0.0. Use suggest_float instead.\n",
            "  colsample_bytree = trial.suggest_uniform('colsample_bytree', 0.5, 1.0)\n",
            "/usr/local/lib/python3.11/dist-packages/xgboost/core.py:158: UserWarning: [03:56:43] WARNING: /workspace/src/learner.cc:740: \n",
            "Parameters: { \"use_label_encoder\" } are not used.\n",
            "\n",
            "  warnings.warn(smsg, UserWarning)\n",
            "[I 2025-03-12 03:56:43,851] Trial 17 finished with value: 0.6551724137931034 and parameters: {'n_estimators': 54, 'max_depth': 7, 'learning_rate': 0.08506483604445285, 'colsample_bytree': 0.8760777811981861}. Best is trial 3 with value: 0.6896551724137931.\n",
            "<ipython-input-15-d815b3c63073>:5: FutureWarning: suggest_loguniform has been deprecated in v3.0.0. This feature will be removed in v6.0.0. See https://github.com/optuna/optuna/releases/tag/v3.0.0. Use suggest_float(..., log=True) instead.\n",
            "  learning_rate = trial.suggest_loguniform('learning_rate', 0.01, 0.3)\n",
            "<ipython-input-15-d815b3c63073>:6: FutureWarning: suggest_uniform has been deprecated in v3.0.0. This feature will be removed in v6.0.0. See https://github.com/optuna/optuna/releases/tag/v3.0.0. Use suggest_float instead.\n",
            "  colsample_bytree = trial.suggest_uniform('colsample_bytree', 0.5, 1.0)\n",
            "/usr/local/lib/python3.11/dist-packages/xgboost/core.py:158: UserWarning: [03:56:43] WARNING: /workspace/src/learner.cc:740: \n",
            "Parameters: { \"use_label_encoder\" } are not used.\n",
            "\n",
            "  warnings.warn(smsg, UserWarning)\n",
            "[I 2025-03-12 03:56:43,975] Trial 18 finished with value: 0.6896551724137931 and parameters: {'n_estimators': 139, 'max_depth': 13, 'learning_rate': 0.15693650057988792, 'colsample_bytree': 0.7267738395842442}. Best is trial 3 with value: 0.6896551724137931.\n",
            "<ipython-input-15-d815b3c63073>:5: FutureWarning: suggest_loguniform has been deprecated in v3.0.0. This feature will be removed in v6.0.0. See https://github.com/optuna/optuna/releases/tag/v3.0.0. Use suggest_float(..., log=True) instead.\n",
            "  learning_rate = trial.suggest_loguniform('learning_rate', 0.01, 0.3)\n",
            "<ipython-input-15-d815b3c63073>:6: FutureWarning: suggest_uniform has been deprecated in v3.0.0. This feature will be removed in v6.0.0. See https://github.com/optuna/optuna/releases/tag/v3.0.0. Use suggest_float instead.\n",
            "  colsample_bytree = trial.suggest_uniform('colsample_bytree', 0.5, 1.0)\n",
            "/usr/local/lib/python3.11/dist-packages/xgboost/core.py:158: UserWarning: [03:56:44] WARNING: /workspace/src/learner.cc:740: \n",
            "Parameters: { \"use_label_encoder\" } are not used.\n",
            "\n",
            "  warnings.warn(smsg, UserWarning)\n",
            "[I 2025-03-12 03:56:44,166] Trial 19 finished with value: 0.6724137931034483 and parameters: {'n_estimators': 256, 'max_depth': 9, 'learning_rate': 0.05526451340315976, 'colsample_bytree': 0.5713936157699095}. Best is trial 3 with value: 0.6896551724137931.\n"
          ]
        },
        {
          "output_type": "stream",
          "name": "stdout",
          "text": [
            "Best XGBoost parameters: {'n_estimators': 268, 'max_depth': 4, 'learning_rate': 0.24531847889906078, 'colsample_bytree': 0.6992708287154168}\n",
            "Best XGBoost accuracy: 0.6896551724137931\n"
          ]
        }
      ]
    },
    {
      "cell_type": "code",
      "source": [
        "from sklearn.metrics import roc_auc_score\n"
      ],
      "metadata": {
        "id": "dBt72F_5f40J"
      },
      "execution_count": 17,
      "outputs": []
    },
    {
      "cell_type": "code",
      "source": [
        "import pandas as pd\n",
        "from sklearn.metrics import accuracy_score, f1_score, roc_auc_score\n",
        "\n",
        "# Convert y_test to 1D if needed\n",
        "y_test_1d = y_test.values.ravel()\n",
        "\n",
        "# Initialize the dictionary\n",
        "model_results = {}\n",
        "\n",
        "# Logistic Regression\n",
        "model_results[\"Logistic Regression\"] = {\n",
        "    \"Accuracy\": accuracy_score(y_test_1d, y_pred),\n",
        "    \"F1-score\": f1_score(y_test_1d, y_pred, average='weighted'),\n",
        "    \"ROC-AUC\": roc_auc_score(y_test_1d, log_reg.predict_proba(X_test.values)[:, 1], multi_class=\"ovr\")  # FIXED\n",
        "}\n",
        "\n",
        "# Random Forest\n",
        "model_results[\"Random Forest\"] = {\n",
        "    \"Accuracy\": accuracy_rf,\n",
        "    \"F1-score\": f1_rf,\n",
        "    \"ROC-AUC\": roc_auc_score(y_test_1d, rf.predict_proba(X_test.values)[:, 1], multi_class=\"ovr\")  # FIXED\n",
        "}\n",
        "\n",
        "# XGBoost\n",
        "model_results[\"XGBoost\"] = {\n",
        "    \"Accuracy\": accuracy_xgb,\n",
        "    \"F1-score\": f1_xgb,\n",
        "    \"ROC-AUC\": roc_auc_score(y_test_1d, xgb.predict_proba(X_test.values)[:, 1], multi_class=\"ovr\")  # FIXED\n",
        "}\n",
        "\n",
        "# Convert results to DataFrame and display\n",
        "comparison_df = pd.DataFrame(model_results).T\n",
        "print(comparison_df)\n"
      ],
      "metadata": {
        "colab": {
          "base_uri": "https://localhost:8080/"
        },
        "id": "tC8Yn9r0gCwN",
        "outputId": "cafd8133-e45e-496a-8425-40938690e9c1"
      },
      "execution_count": 21,
      "outputs": [
        {
          "output_type": "stream",
          "name": "stdout",
          "text": [
            "                     Accuracy  F1-score   ROC-AUC\n",
            "Logistic Regression  0.336207  0.187752  0.710099\n",
            "Random Forest        0.655172  0.761905  0.729691\n",
            "XGBoost              0.672414  0.387097  0.732080\n"
          ]
        }
      ]
    },
    {
      "cell_type": "code",
      "source": [
        "!pip install catboost\n",
        "\n"
      ],
      "metadata": {
        "colab": {
          "base_uri": "https://localhost:8080/"
        },
        "id": "IepcyHK5h00x",
        "outputId": "fb0282a6-f0a8-4e19-f62e-61277efc0c56"
      },
      "execution_count": 23,
      "outputs": [
        {
          "output_type": "stream",
          "name": "stdout",
          "text": [
            "Collecting catboost\n",
            "  Downloading catboost-1.2.7-cp311-cp311-manylinux2014_x86_64.whl.metadata (1.2 kB)\n",
            "Requirement already satisfied: graphviz in /usr/local/lib/python3.11/dist-packages (from catboost) (0.20.3)\n",
            "Requirement already satisfied: matplotlib in /usr/local/lib/python3.11/dist-packages (from catboost) (3.10.0)\n",
            "Requirement already satisfied: numpy<2.0,>=1.16.0 in /usr/local/lib/python3.11/dist-packages (from catboost) (1.26.4)\n",
            "Requirement already satisfied: pandas>=0.24 in /usr/local/lib/python3.11/dist-packages (from catboost) (2.2.2)\n",
            "Requirement already satisfied: scipy in /usr/local/lib/python3.11/dist-packages (from catboost) (1.14.1)\n",
            "Requirement already satisfied: plotly in /usr/local/lib/python3.11/dist-packages (from catboost) (5.24.1)\n",
            "Requirement already satisfied: six in /usr/local/lib/python3.11/dist-packages (from catboost) (1.17.0)\n",
            "Requirement already satisfied: python-dateutil>=2.8.2 in /usr/local/lib/python3.11/dist-packages (from pandas>=0.24->catboost) (2.8.2)\n",
            "Requirement already satisfied: pytz>=2020.1 in /usr/local/lib/python3.11/dist-packages (from pandas>=0.24->catboost) (2025.1)\n",
            "Requirement already satisfied: tzdata>=2022.7 in /usr/local/lib/python3.11/dist-packages (from pandas>=0.24->catboost) (2025.1)\n",
            "Requirement already satisfied: contourpy>=1.0.1 in /usr/local/lib/python3.11/dist-packages (from matplotlib->catboost) (1.3.1)\n",
            "Requirement already satisfied: cycler>=0.10 in /usr/local/lib/python3.11/dist-packages (from matplotlib->catboost) (0.12.1)\n",
            "Requirement already satisfied: fonttools>=4.22.0 in /usr/local/lib/python3.11/dist-packages (from matplotlib->catboost) (4.56.0)\n",
            "Requirement already satisfied: kiwisolver>=1.3.1 in /usr/local/lib/python3.11/dist-packages (from matplotlib->catboost) (1.4.8)\n",
            "Requirement already satisfied: packaging>=20.0 in /usr/local/lib/python3.11/dist-packages (from matplotlib->catboost) (24.2)\n",
            "Requirement already satisfied: pillow>=8 in /usr/local/lib/python3.11/dist-packages (from matplotlib->catboost) (11.1.0)\n",
            "Requirement already satisfied: pyparsing>=2.3.1 in /usr/local/lib/python3.11/dist-packages (from matplotlib->catboost) (3.2.1)\n",
            "Requirement already satisfied: tenacity>=6.2.0 in /usr/local/lib/python3.11/dist-packages (from plotly->catboost) (9.0.0)\n",
            "Downloading catboost-1.2.7-cp311-cp311-manylinux2014_x86_64.whl (98.7 MB)\n",
            "\u001b[2K   \u001b[90m━━━━━━━━━━━━━━━━━━━━━━━━━━━━━━━━━━━━━━━━\u001b[0m \u001b[32m98.7/98.7 MB\u001b[0m \u001b[31m7.1 MB/s\u001b[0m eta \u001b[36m0:00:00\u001b[0m\n",
            "\u001b[?25hInstalling collected packages: catboost\n",
            "Successfully installed catboost-1.2.7\n"
          ]
        }
      ]
    },
    {
      "cell_type": "code",
      "source": [
        "from catboost import CatBoostClassifier\n",
        "from sklearn.metrics import accuracy_score, f1_score, roc_auc_score\n",
        "\n",
        "# Initialize CatBoost model\n",
        "catboost = CatBoostClassifier(iterations=1000, learning_rate=0.05, depth=6, verbose=100, random_state=42)\n",
        "\n",
        "# Train the model\n",
        "catboost.fit(X_train, y_train)\n",
        "\n",
        "# Make predictions\n",
        "y_pred_cat = catboost.predict(X_test)\n",
        "y_pred_proba_cat = catboost.predict_proba(X_test)[:, 1]\n",
        "\n",
        "# Evaluate performance\n",
        "accuracy_cat = accuracy_score(y_test, y_pred_cat)\n",
        "f1_cat = f1_score(y_test, y_pred_cat, average='weighted')\n",
        "roc_auc_cat = roc_auc_score(y_test, y_pred_proba_cat, multi_class=\"ovr\")\n",
        "\n",
        "# Store results\n",
        "model_results[\"CatBoost\"] = {\n",
        "    \"Accuracy\": accuracy_cat,\n",
        "    \"F1-score\": f1_cat,\n",
        "    \"ROC-AUC\": roc_auc_cat\n",
        "}\n",
        "\n",
        "# Print the updated comparison\n",
        "import pandas as pd\n",
        "comparison_df = pd.DataFrame(model_results).T\n",
        "print(comparison_df)\n"
      ],
      "metadata": {
        "colab": {
          "base_uri": "https://localhost:8080/"
        },
        "id": "BYPTi490iMVS",
        "outputId": "7aa15a62-6fee-4d64-f676-85d6c82bb71c"
      },
      "execution_count": 33,
      "outputs": [
        {
          "output_type": "stream",
          "name": "stdout",
          "text": [
            "0:\tlearn: 0.6705589\ttotal: 4.82ms\tremaining: 4.81s\n",
            "100:\tlearn: 0.2921344\ttotal: 156ms\tremaining: 1.39s\n",
            "200:\tlearn: 0.1597267\ttotal: 405ms\tremaining: 1.61s\n",
            "300:\tlearn: 0.0923738\ttotal: 759ms\tremaining: 1.76s\n",
            "400:\tlearn: 0.0619198\ttotal: 1.12s\tremaining: 1.67s\n",
            "500:\tlearn: 0.0454290\ttotal: 1.52s\tremaining: 1.52s\n",
            "600:\tlearn: 0.0344377\ttotal: 1.92s\tremaining: 1.28s\n",
            "700:\tlearn: 0.0277474\ttotal: 2.2s\tremaining: 939ms\n",
            "800:\tlearn: 0.0226485\ttotal: 2.53s\tremaining: 628ms\n",
            "900:\tlearn: 0.0194914\ttotal: 2.85s\tremaining: 313ms\n",
            "999:\tlearn: 0.0162405\ttotal: 2.99s\tremaining: 0us\n",
            "                     Accuracy  F1-score   ROC-AUC\n",
            "Logistic Regression  0.336207  0.187752  0.710099\n",
            "Random Forest        0.655172  0.761905  0.729691\n",
            "XGBoost              0.672414  0.387097  0.732080\n",
            "CatBoost             0.672414  0.626196  0.720930\n"
          ]
        }
      ]
    },
    {
      "cell_type": "code",
      "source": [
        "import optuna\n",
        "from catboost import CatBoostClassifier\n",
        "from sklearn.model_selection import cross_val_score\n",
        "\n",
        "# Objective function for Optuna\n",
        "def objective(trial):\n",
        "    # Define the hyperparameters to tune\n",
        "    params = {\n",
        "        \"iterations\": trial.suggest_int(\"iterations\", 500, 2000),\n",
        "        \"learning_rate\": trial.suggest_float(\"learning_rate\", 0.01, 0.3),\n",
        "        \"depth\": trial.suggest_int(\"depth\", 4, 10),\n",
        "        \"l2_leaf_reg\": trial.suggest_float(\"l2_leaf_reg\", 1, 10),\n",
        "        \"border_count\": trial.suggest_int(\"border_count\", 32, 255)\n",
        "    }\n",
        "\n",
        "    # Train and evaluate using cross-validation\n",
        "    catboost = CatBoostClassifier(**params, verbose=0, random_state=42)\n",
        "    score = cross_val_score(catboost, X_train, y_train, cv=5, scoring=\"accuracy\").mean()\n",
        "    return score  # We maximize accuracy\n",
        "\n",
        "# Run Optuna optimization\n",
        "study = optuna.create_study(direction=\"maximize\")\n",
        "study.optimize(objective, n_trials=20)\n",
        "\n",
        "# Get the best parameters\n",
        "best_params = study.best_params\n",
        "print(\"Best Parameters:\", best_params)\n",
        "\n",
        "# Train CatBoost with best parameters\n",
        "best_catboost = CatBoostClassifier(**best_params, verbose=100, random_state=42)\n",
        "best_catboost.fit(X_train, y_train)\n",
        "\n",
        "# Make predictions\n",
        "y_pred_cat = best_catboost.predict(X_test)\n",
        "y_pred_proba_cat = best_catboost.predict_proba(X_test)[:, 1]\n",
        "\n",
        "# Evaluate performance\n",
        "accuracy_cat = accuracy_score(y_test, y_pred_cat)\n",
        "f1_cat = f1_score(y_test, y_pred_cat, average='weighted')\n",
        "roc_auc_cat = roc_auc_score(y_test, y_pred_proba_cat, multi_class=\"ovr\")\n",
        "\n",
        "# Print results\n",
        "print(\"Optimized CatBoost Accuracy:\", accuracy_cat)\n",
        "print(\"Optimized CatBoost F1-score:\", f1_cat)\n",
        "print(\"Optimized CatBoost ROC-AUC:\", roc_auc_cat)\n"
      ],
      "metadata": {
        "colab": {
          "base_uri": "https://localhost:8080/"
        },
        "id": "XQVz0VRHijDN",
        "outputId": "c205d142-a99c-461f-97aa-b693c20b00bc"
      },
      "execution_count": 25,
      "outputs": [
        {
          "output_type": "stream",
          "name": "stderr",
          "text": [
            "[I 2025-03-12 04:08:36,520] A new study created in memory with name: no-name-47d97684-a914-4c21-8a07-87ca1b852c6c\n",
            "[I 2025-03-12 04:09:43,144] Trial 0 finished with value: 0.7517297802711547 and parameters: {'iterations': 1148, 'learning_rate': 0.05505895227549795, 'depth': 10, 'l2_leaf_reg': 6.352742820461072, 'border_count': 244}. Best is trial 0 with value: 0.7517297802711547.\n",
            "[I 2025-03-12 04:09:50,496] Trial 1 finished with value: 0.7538101916783544 and parameters: {'iterations': 1318, 'learning_rate': 0.06445183204459129, 'depth': 5, 'l2_leaf_reg': 8.398964912547125, 'border_count': 85}. Best is trial 1 with value: 0.7538101916783544.\n",
            "[I 2025-03-12 04:09:52,945] Trial 2 finished with value: 0.7385928003740064 and parameters: {'iterations': 547, 'learning_rate': 0.13334955236202745, 'depth': 5, 'l2_leaf_reg': 4.148337369527904, 'border_count': 58}. Best is trial 1 with value: 0.7538101916783544.\n",
            "[I 2025-03-12 04:10:00,698] Trial 3 finished with value: 0.7257597007947639 and parameters: {'iterations': 1467, 'learning_rate': 0.1308459583105301, 'depth': 5, 'l2_leaf_reg': 1.263319312821878, 'border_count': 73}. Best is trial 1 with value: 0.7538101916783544.\n",
            "[I 2025-03-12 04:10:04,580] Trial 4 finished with value: 0.7559373539036933 and parameters: {'iterations': 541, 'learning_rate': 0.26231415859738316, 'depth': 6, 'l2_leaf_reg': 9.031448622970453, 'border_count': 191}. Best is trial 4 with value: 0.7559373539036933.\n",
            "[I 2025-03-12 04:11:03,761] Trial 5 finished with value: 0.7387096774193548 and parameters: {'iterations': 1097, 'learning_rate': 0.18580163962734045, 'depth': 10, 'l2_leaf_reg': 2.611184284880893, 'border_count': 235}. Best is trial 4 with value: 0.7559373539036933.\n",
            "[I 2025-03-12 04:11:13,379] Trial 6 finished with value: 0.7343852267414679 and parameters: {'iterations': 827, 'learning_rate': 0.05716449828586355, 'depth': 8, 'l2_leaf_reg': 8.16118138879566, 'border_count': 51}. Best is trial 4 with value: 0.7559373539036933.\n",
            "[I 2025-03-12 04:11:34,685] Trial 7 finished with value: 0.7365825151940159 and parameters: {'iterations': 1899, 'learning_rate': 0.08211182088341751, 'depth': 7, 'l2_leaf_reg': 5.652515963968563, 'border_count': 249}. Best is trial 4 with value: 0.7559373539036933.\n",
            "[I 2025-03-12 04:11:40,558] Trial 8 finished with value: 0.7300140252454417 and parameters: {'iterations': 1100, 'learning_rate': 0.15021541276046488, 'depth': 4, 'l2_leaf_reg': 5.260747175852003, 'border_count': 196}. Best is trial 4 with value: 0.7559373539036933.\n",
            "[I 2025-03-12 04:11:42,811] Trial 9 finished with value: 0.7343618513323982 and parameters: {'iterations': 525, 'learning_rate': 0.21958580435739844, 'depth': 4, 'l2_leaf_reg': 9.771868523087264, 'border_count': 216}. Best is trial 4 with value: 0.7559373539036933.\n",
            "[I 2025-03-12 04:12:01,153] Trial 10 finished with value: 0.7516129032258064 and parameters: {'iterations': 1717, 'learning_rate': 0.2889288163673005, 'depth': 7, 'l2_leaf_reg': 7.691784506289024, 'border_count': 153}. Best is trial 4 with value: 0.7559373539036933.\n",
            "[I 2025-03-12 04:12:11,915] Trial 11 finished with value: 0.7257597007947638 and parameters: {'iterations': 1436, 'learning_rate': 0.2850744504877657, 'depth': 6, 'l2_leaf_reg': 9.795935809727059, 'border_count': 119}. Best is trial 4 with value: 0.7559373539036933.\n",
            "[I 2025-03-12 04:12:18,979] Trial 12 finished with value: 0.7409303412809723 and parameters: {'iterations': 846, 'learning_rate': 0.02111584244496057, 'depth': 6, 'l2_leaf_reg': 7.980543249413588, 'border_count': 116}. Best is trial 4 with value: 0.7559373539036933.\n",
            "[I 2025-03-12 04:12:43,696] Trial 13 finished with value: 0.7386863020102851 and parameters: {'iterations': 1376, 'learning_rate': 0.23309833677589242, 'depth': 8, 'l2_leaf_reg': 8.640943897500653, 'border_count': 159}. Best is trial 4 with value: 0.7559373539036933.\n",
            "[I 2025-03-12 04:12:47,761] Trial 14 finished with value: 0.7408368396446937 and parameters: {'iterations': 841, 'learning_rate': 0.10065587136928306, 'depth': 5, 'l2_leaf_reg': 7.049606216854286, 'border_count': 94}. Best is trial 4 with value: 0.7559373539036933.\n",
            "[I 2025-03-12 04:13:00,259] Trial 15 finished with value: 0.7494623655913978 and parameters: {'iterations': 1624, 'learning_rate': 0.23982324263589214, 'depth': 6, 'l2_leaf_reg': 9.071983966097227, 'border_count': 189}. Best is trial 4 with value: 0.7559373539036933.\n",
            "[I 2025-03-12 04:13:12,701] Trial 16 finished with value: 0.7106124357176251 and parameters: {'iterations': 1284, 'learning_rate': 0.18493868581048054, 'depth': 8, 'l2_leaf_reg': 6.832528588736038, 'border_count': 33}. Best is trial 4 with value: 0.7559373539036933.\n",
            "[I 2025-03-12 04:13:16,630] Trial 17 finished with value: 0.753833567087424 and parameters: {'iterations': 956, 'learning_rate': 0.025949153451238195, 'depth': 4, 'l2_leaf_reg': 4.038398252194135, 'border_count': 171}. Best is trial 4 with value: 0.7559373539036933.\n",
            "[I 2025-03-12 04:13:21,090] Trial 18 finished with value: 0.7365357643758765 and parameters: {'iterations': 729, 'learning_rate': 0.021295154167441682, 'depth': 4, 'l2_leaf_reg': 3.9718038539822897, 'border_count': 179}. Best is trial 4 with value: 0.7559373539036933.\n",
            "[I 2025-03-12 04:13:25,721] Trial 19 finished with value: 0.732258064516129 and parameters: {'iterations': 675, 'learning_rate': 0.18432541253989812, 'depth': 6, 'l2_leaf_reg': 3.7525651927718533, 'border_count': 129}. Best is trial 4 with value: 0.7559373539036933.\n"
          ]
        },
        {
          "output_type": "stream",
          "name": "stdout",
          "text": [
            "Best Parameters: {'iterations': 541, 'learning_rate': 0.26231415859738316, 'depth': 6, 'l2_leaf_reg': 9.031448622970453, 'border_count': 191}\n",
            "0:\tlearn: 0.5989662\ttotal: 1.73ms\tremaining: 933ms\n",
            "100:\tlearn: 0.0899583\ttotal: 133ms\tremaining: 578ms\n",
            "200:\tlearn: 0.0367904\ttotal: 266ms\tremaining: 451ms\n",
            "300:\tlearn: 0.0223185\ttotal: 404ms\tremaining: 322ms\n",
            "400:\tlearn: 0.0164964\ttotal: 542ms\tremaining: 189ms\n",
            "500:\tlearn: 0.0143147\ttotal: 682ms\tremaining: 54.4ms\n",
            "540:\tlearn: 0.0139036\ttotal: 746ms\tremaining: 0us\n",
            "Optimized CatBoost Accuracy: 0.6637931034482759\n",
            "Optimized CatBoost F1-score: 0.6306215155895106\n",
            "Optimized CatBoost ROC-AUC: 0.7253902516725071\n"
          ]
        }
      ]
    },
    {
      "cell_type": "code",
      "source": [
        "import matplotlib.pyplot as plt\n",
        "from sklearn.metrics import roc_curve, auc\n",
        "\n",
        "# Define model names\n",
        "model_names = [\"Logistic Regression\", \"Random Forest\", \"XGBoost\", \"CatBoost\"]\n",
        "model_colors = [\"blue\", \"green\", \"orange\", \"red\"]\n",
        "\n",
        "# Dictionary to store model predictions\n",
        "model_preds = {\n",
        "    \"Logistic Regression\": log_reg.predict_proba(X_test)[:, 1],\n",
        "    \"Random Forest\": rf.predict_proba(X_test)[:, 1],\n",
        "    \"XGBoost\": xgb.predict_proba(X_test)[:, 1],\n",
        "    \"CatBoost\": best_catboost.predict_proba(X_test)[:, 1]\n",
        "}\n"
      ],
      "metadata": {
        "colab": {
          "base_uri": "https://localhost:8080/"
        },
        "id": "4kMZVnBQzPW7",
        "outputId": "ac8a13b5-1165-4321-d694-4c017eed7eec"
      },
      "execution_count": 27,
      "outputs": [
        {
          "output_type": "stream",
          "name": "stderr",
          "text": [
            "/usr/local/lib/python3.11/dist-packages/sklearn/utils/validation.py:2732: UserWarning: X has feature names, but LogisticRegression was fitted without feature names\n",
            "  warnings.warn(\n",
            "/usr/local/lib/python3.11/dist-packages/sklearn/utils/validation.py:2732: UserWarning: X has feature names, but RandomForestClassifier was fitted without feature names\n",
            "  warnings.warn(\n"
          ]
        }
      ]
    },
    {
      "cell_type": "code",
      "source": [
        "plt.figure(figsize=(10, 6))\n",
        "\n",
        "for model, color in zip(model_names, model_colors):\n",
        "    fpr, tpr, _ = roc_curve(y_test, model_preds[model])\n",
        "    roc_auc = auc(fpr, tpr)\n",
        "    plt.plot(fpr, tpr, color=color, lw=2, label=f\"{model} (AUC = {roc_auc:.2f})\")\n",
        "\n",
        "# Plot diagonal line\n",
        "plt.plot([0, 1], [0, 1], color=\"gray\", linestyle=\"--\")\n",
        "\n",
        "# Labels and legend\n",
        "plt.xlabel(\"False Positive Rate\")\n",
        "plt.ylabel(\"True Positive Rate\")\n",
        "plt.title(\"ROC Curve Comparison for All Models\")\n",
        "plt.legend(loc=\"lower right\")\n",
        "plt.show()\n"
      ],
      "metadata": {
        "colab": {
          "base_uri": "https://localhost:8080/",
          "height": 564
        },
        "id": "pqLhoioSzZyp",
        "outputId": "0529176f-ada4-42d5-8b5c-e02113f23bf3"
      },
      "execution_count": 28,
      "outputs": [
        {
          "output_type": "display_data",
          "data": {
            "text/plain": [
              "<Figure size 1000x600 with 1 Axes>"
            ],
            "image/png": "[encoded data removed]"
          },
          "metadata": {}
        }
      ]
    },
    {
      "cell_type": "code",
      "source": [
        "import numpy as np\n",
        "\n",
        "# Performance metrics\n",
        "accuracy_scores = [accuracy_score(y_test, log_reg.predict(X_test)),\n",
        "                   accuracy_score(y_test, rf.predict(X_test)),\n",
        "                   accuracy_score(y_test, xgb.predict(X_test)),\n",
        "                   accuracy_score(y_test, best_catboost.predict(X_test))]\n",
        "\n",
        "f1_scores = [f1_score(y_test, log_reg.predict(X_test), average='weighted'),\n",
        "             f1_score(y_test, rf.predict(X_test), average='weighted'),\n",
        "             f1_score(y_test, xgb.predict(X_test), average='weighted'),\n",
        "             f1_score(y_test, best_catboost.predict(X_test), average='weighted')]\n",
        "\n",
        "# Bar width\n",
        "bar_width = 0.3\n",
        "index = np.arange(len(model_names))\n",
        "\n",
        "# Create bars\n",
        "plt.figure(figsize=(10, 6))\n",
        "plt.bar(index, accuracy_scores, bar_width, label=\"Accuracy\", color=\"skyblue\")\n",
        "plt.bar(index + bar_width, f1_scores, bar_width, label=\"F1-Score\", color=\"orange\")\n",
        "\n",
        "# Labels and legend\n",
        "plt.xlabel(\"Models\")\n",
        "plt.ylabel(\"Score\")\n",
        "plt.title(\"Model Performance Comparison (Accuracy & F1-Score)\")\n",
        "plt.xticks(index + bar_width / 2, model_names)\n",
        "plt.legend()\n",
        "plt.ylim(0, 1)  # Set limit for better visualization\n",
        "\n",
        "plt.show()\n"
      ],
      "metadata": {
        "colab": {
          "base_uri": "https://localhost:8080/",
          "height": 703
        },
        "id": "tQOQd-ilzc8_",
        "outputId": "427150b9-5be0-4ad4-d4b6-f4b19ca5da33"
      },
      "execution_count": 29,
      "outputs": [
        {
          "output_type": "stream",
          "name": "stderr",
          "text": [
            "/usr/local/lib/python3.11/dist-packages/sklearn/utils/validation.py:2732: UserWarning: X has feature names, but LogisticRegression was fitted without feature names\n",
            "  warnings.warn(\n",
            "/usr/local/lib/python3.11/dist-packages/sklearn/utils/validation.py:2732: UserWarning: X has feature names, but RandomForestClassifier was fitted without feature names\n",
            "  warnings.warn(\n",
            "/usr/local/lib/python3.11/dist-packages/sklearn/utils/validation.py:2732: UserWarning: X has feature names, but LogisticRegression was fitted without feature names\n",
            "  warnings.warn(\n",
            "/usr/local/lib/python3.11/dist-packages/sklearn/utils/validation.py:2732: UserWarning: X has feature names, but RandomForestClassifier was fitted without feature names\n",
            "  warnings.warn(\n"
          ]
        },
        {
          "output_type": "display_data",
          "data": {
            "text/plain": [
              "<Figure size 1000x600 with 1 Axes>"
            ],
            "image/png": "[encoded data removed]"
          },
          "metadata": {}
        }
      ]
    },
    {
      "cell_type": "code",
      "source": [
        "pip install tensorflow keras\n"
      ],
      "metadata": {
        "colab": {
          "base_uri": "https://localhost:8080/"
        },
        "id": "Aobg6w4z4Jwh",
        "outputId": "a1dbdf90-02f9-4a2c-937b-a3b3e4339c2a"
      },
      "execution_count": 31,
      "outputs": [
        {
          "output_type": "stream",
          "name": "stdout",
          "text": [
            "Requirement already satisfied: tensorflow in /usr/local/lib/python3.11/dist-packages (2.18.0)\n",
            "Requirement already satisfied: keras in /usr/local/lib/python3.11/dist-packages (3.8.0)\n",
            "Requirement already satisfied: absl-py>=1.0.0 in /usr/local/lib/python3.11/dist-packages (from tensorflow) (1.4.0)\n",
            "Requirement already satisfied: astunparse>=1.6.0 in /usr/local/lib/python3.11/dist-packages (from tensorflow) (1.6.3)\n",
            "Requirement already satisfied: flatbuffers>=24.3.25 in /usr/local/lib/python3.11/dist-packages (from tensorflow) (25.2.10)\n",
            "Requirement already satisfied: gast!=0.5.0,!=0.5.1,!=0.5.2,>=0.2.1 in /usr/local/lib/python3.11/dist-packages (from tensorflow) (0.6.0)\n",
            "Requirement already satisfied: google-pasta>=0.1.1 in /usr/local/lib/python3.11/dist-packages (from tensorflow) (0.2.0)\n",
            "Requirement already satisfied: libclang>=13.0.0 in /usr/local/lib/python3.11/dist-packages (from tensorflow) (18.1.1)\n",
            "Requirement already satisfied: opt-einsum>=2.3.2 in /usr/local/lib/python3.11/dist-packages (from tensorflow) (3.4.0)\n",
            "Requirement already satisfied: packaging in /usr/local/lib/python3.11/dist-packages (from tensorflow) (24.2)\n",
            "Requirement already satisfied: protobuf!=4.21.0,!=4.21.1,!=4.21.2,!=4.21.3,!=4.21.4,!=4.21.5,<6.0.0dev,>=3.20.3 in /usr/local/lib/python3.11/dist-packages (from tensorflow) (4.25.6)\n",
            "Requirement already satisfied: requests<3,>=2.21.0 in /usr/local/lib/python3.11/dist-packages (from tensorflow) (2.32.3)\n",
            "Requirement already satisfied: setuptools in /usr/local/lib/python3.11/dist-packages (from tensorflow) (75.1.0)\n",
            "Requirement already satisfied: six>=1.12.0 in /usr/local/lib/python3.11/dist-packages (from tensorflow) (1.17.0)\n",
            "Requirement already satisfied: termcolor>=1.1.0 in /usr/local/lib/python3.11/dist-packages (from tensorflow) (2.5.0)\n",
            "Requirement already satisfied: typing-extensions>=3.6.6 in /usr/local/lib/python3.11/dist-packages (from tensorflow) (4.12.2)\n",
            "Requirement already satisfied: wrapt>=1.11.0 in /usr/local/lib/python3.11/dist-packages (from tensorflow) (1.17.2)\n",
            "Requirement already satisfied: grpcio<2.0,>=1.24.3 in /usr/local/lib/python3.11/dist-packages (from tensorflow) (1.70.0)\n",
            "Requirement already satisfied: tensorboard<2.19,>=2.18 in /usr/local/lib/python3.11/dist-packages (from tensorflow) (2.18.0)\n",
            "Requirement already satisfied: numpy<2.1.0,>=1.26.0 in /usr/local/lib/python3.11/dist-packages (from tensorflow) (1.26.4)\n",
            "Requirement already satisfied: h5py>=3.11.0 in /usr/local/lib/python3.11/dist-packages (from tensorflow) (3.12.1)\n",
            "Requirement already satisfied: ml-dtypes<0.5.0,>=0.4.0 in /usr/local/lib/python3.11/dist-packages (from tensorflow) (0.4.1)\n",
            "Requirement already satisfied: tensorflow-io-gcs-filesystem>=0.23.1 in /usr/local/lib/python3.11/dist-packages (from tensorflow) (0.37.1)\n",
            "Requirement already satisfied: rich in /usr/local/lib/python3.11/dist-packages (from keras) (13.9.4)\n",
            "Requirement already satisfied: namex in /usr/local/lib/python3.11/dist-packages (from keras) (0.0.8)\n",
            "Requirement already satisfied: optree in /usr/local/lib/python3.11/dist-packages (from keras) (0.14.1)\n",
            "Requirement already satisfied: wheel<1.0,>=0.23.0 in /usr/local/lib/python3.11/dist-packages (from astunparse>=1.6.0->tensorflow) (0.45.1)\n",
            "Requirement already satisfied: charset-normalizer<4,>=2 in /usr/local/lib/python3.11/dist-packages (from requests<3,>=2.21.0->tensorflow) (3.4.1)\n",
            "Requirement already satisfied: idna<4,>=2.5 in /usr/local/lib/python3.11/dist-packages (from requests<3,>=2.21.0->tensorflow) (3.10)\n",
            "Requirement already satisfied: urllib3<3,>=1.21.1 in /usr/local/lib/python3.11/dist-packages (from requests<3,>=2.21.0->tensorflow) (2.3.0)\n",
            "Requirement already satisfied: certifi>=2017.4.17 in /usr/local/lib/python3.11/dist-packages (from requests<3,>=2.21.0->tensorflow) (2025.1.31)\n",
            "Requirement already satisfied: markdown>=2.6.8 in /usr/local/lib/python3.11/dist-packages (from tensorboard<2.19,>=2.18->tensorflow) (3.7)\n",
            "Requirement already satisfied: tensorboard-data-server<0.8.0,>=0.7.0 in /usr/local/lib/python3.11/dist-packages (from tensorboard<2.19,>=2.18->tensorflow) (0.7.2)\n",
            "Requirement already satisfied: werkzeug>=1.0.1 in /usr/local/lib/python3.11/dist-packages (from tensorboard<2.19,>=2.18->tensorflow) (3.1.3)\n",
            "Requirement already satisfied: markdown-it-py>=2.2.0 in /usr/local/lib/python3.11/dist-packages (from rich->keras) (3.0.0)\n",
            "Requirement already satisfied: pygments<3.0.0,>=2.13.0 in /usr/local/lib/python3.11/dist-packages (from rich->keras) (2.18.0)\n",
            "Requirement already satisfied: mdurl~=0.1 in /usr/local/lib/python3.11/dist-packages (from markdown-it-py>=2.2.0->rich->keras) (0.1.2)\n",
            "Requirement already satisfied: MarkupSafe>=2.1.1 in /usr/local/lib/python3.11/dist-packages (from werkzeug>=1.0.1->tensorboard<2.19,>=2.18->tensorflow) (3.0.2)\n"
          ]
        }
      ]
    },
    {
      "cell_type": "code",
      "source": [
        "import pandas as pd\n",
        "import numpy as np\n",
        "from sklearn.model_selection import train_test_split\n",
        "from sklearn.preprocessing import StandardScaler, LabelEncoder\n",
        "import tensorflow as tf\n",
        "\n",
        "# Load your dataset\n",
        "df = pd.read_csv(\"your_dataset.csv\")  # Change to actual dataset path\n",
        "\n",
        "# Separate features and target variable\n",
        "X = df.drop(columns=['target_column'])  # Replace with actual target column name\n",
        "y = df['target_column']\n",
        "\n",
        "# Encode categorical labels (if needed)\n",
        "label_encoder = LabelEncoder()\n",
        "y = label_encoder.fit_transform(y)\n",
        "\n",
        "# Normalize numerical features\n",
        "scaler = StandardScaler()\n",
        "X_scaled = scaler.fit_transform(X)\n",
        "\n",
        "# Split into training and test sets\n",
        "X_train, X_test, y_train, y_test = train_test_split(X_scaled, y, test_size=0.2, random_state=42)\n",
        "\n",
        "# Convert to TensorFlow tensors\n",
        "X_train = np.array(X_train, dtype=np.float32)\n",
        "X_test = np.array(X_test, dtype=np.float32)\n",
        "y_train = np.array(y_train, dtype=np.int32)\n",
        "y_test = np.array(y_test, dtype=np.int32)\n"
      ],
      "metadata": {
        "colab": {
          "base_uri": "https://localhost:8080/",
          "height": 356
        },
        "id": "tewbb5Wb5mJx",
        "outputId": "80da3ffb-b10a-44d5-96e2-71182332e010"
      },
      "execution_count": 32,
      "outputs": [
        {
          "output_type": "error",
          "ename": "FileNotFoundError",
          "evalue": "[Errno 2] No such file or directory: 'your_dataset.csv'",
          "traceback": [
            "\u001b[0;31m---------------------------------------------------------------------------\u001b[0m",
            "\u001b[0;31mFileNotFoundError\u001b[0m                         Traceback (most recent call last)",
            "\u001b[0;32m<ipython-input-32-cd6fad2e2f52>\u001b[0m in \u001b[0;36m<cell line: 0>\u001b[0;34m()\u001b[0m\n\u001b[1;32m      6\u001b[0m \u001b[0;34m\u001b[0m\u001b[0m\n\u001b[1;32m      7\u001b[0m \u001b[0;31m# Load your dataset\u001b[0m\u001b[0;34m\u001b[0m\u001b[0;34m\u001b[0m\u001b[0m\n\u001b[0;32m----> 8\u001b[0;31m \u001b[0mdf\u001b[0m \u001b[0;34m=\u001b[0m \u001b[0mpd\u001b[0m\u001b[0;34m.\u001b[0m\u001b[0mread_csv\u001b[0m\u001b[0;34m(\u001b[0m\u001b[0;34m\"your_dataset.csv\"\u001b[0m\u001b[0;34m)\u001b[0m  \u001b[0;31m# Change to actual dataset path\u001b[0m\u001b[0;34m\u001b[0m\u001b[0;34m\u001b[0m\u001b[0m\n\u001b[0m\u001b[1;32m      9\u001b[0m \u001b[0;34m\u001b[0m\u001b[0m\n\u001b[1;32m     10\u001b[0m \u001b[0;31m# Separate features and target variable\u001b[0m\u001b[0;34m\u001b[0m\u001b[0;34m\u001b[0m\u001b[0m\n",
            "\u001b[0;32m/usr/local/lib/python3.11/dist-packages/pandas/io/parsers/readers.py\u001b[0m in \u001b[0;36mread_csv\u001b[0;34m(filepath_or_buffer, sep, delimiter, header, names, index_col, usecols, dtype, engine, converters, true_values, false_values, skipinitialspace, skiprows, skipfooter, nrows, na_values, keep_default_na, na_filter, verbose, skip_blank_lines, parse_dates, infer_datetime_format, keep_date_col, date_parser, date_format, dayfirst, cache_dates, iterator, chunksize, compression, thousands, decimal, lineterminator, quotechar, quoting, doublequote, escapechar, comment, encoding, encoding_errors, dialect, on_bad_lines, delim_whitespace, low_memory, memory_map, float_precision, storage_options, dtype_backend)\u001b[0m\n\u001b[1;32m   1024\u001b[0m     \u001b[0mkwds\u001b[0m\u001b[0;34m.\u001b[0m\u001b[0mupdate\u001b[0m\u001b[0;34m(\u001b[0m\u001b[0mkwds_defaults\u001b[0m\u001b[0;34m)\u001b[0m\u001b[0;34m\u001b[0m\u001b[0;34m\u001b[0m\u001b[0m\n\u001b[1;32m   1025\u001b[0m \u001b[0;34m\u001b[0m\u001b[0m\n\u001b[0;32m-> 1026\u001b[0;31m     \u001b[0;32mreturn\u001b[0m \u001b[0m_read\u001b[0m\u001b[0;34m(\u001b[0m\u001b[0mfilepath_or_buffer\u001b[0m\u001b[0;34m,\u001b[0m \u001b[0mkwds\u001b[0m\u001b[0;34m)\u001b[0m\u001b[0;34m\u001b[0m\u001b[0;34m\u001b[0m\u001b[0m\n\u001b[0m\u001b[1;32m   1027\u001b[0m \u001b[0;34m\u001b[0m\u001b[0m\n\u001b[1;32m   1028\u001b[0m \u001b[0;34m\u001b[0m\u001b[0m\n",
            "\u001b[0;32m/usr/local/lib/python3.11/dist-packages/pandas/io/parsers/readers.py\u001b[0m in \u001b[0;36m_read\u001b[0;34m(filepath_or_buffer, kwds)\u001b[0m\n\u001b[1;32m    618\u001b[0m \u001b[0;34m\u001b[0m\u001b[0m\n\u001b[1;32m    619\u001b[0m     \u001b[0;31m# Create the parser.\u001b[0m\u001b[0;34m\u001b[0m\u001b[0;34m\u001b[0m\u001b[0m\n\u001b[0;32m--> 620\u001b[0;31m     \u001b[0mparser\u001b[0m \u001b[0;34m=\u001b[0m \u001b[0mTextFileReader\u001b[0m\u001b[0;34m(\u001b[0m\u001b[0mfilepath_or_buffer\u001b[0m\u001b[0;34m,\u001b[0m \u001b[0;34m**\u001b[0m\u001b[0mkwds\u001b[0m\u001b[0;34m)\u001b[0m\u001b[0;34m\u001b[0m\u001b[0;34m\u001b[0m\u001b[0m\n\u001b[0m\u001b[1;32m    621\u001b[0m \u001b[0;34m\u001b[0m\u001b[0m\n\u001b[1;32m    622\u001b[0m     \u001b[0;32mif\u001b[0m \u001b[0mchunksize\u001b[0m \u001b[0;32mor\u001b[0m \u001b[0miterator\u001b[0m\u001b[0;34m:\u001b[0m\u001b[0;34m\u001b[0m\u001b[0;34m\u001b[0m\u001b[0m\n",
            "\u001b[0;32m/usr/local/lib/python3.11/dist-packages/pandas/io/parsers/readers.py\u001b[0m in \u001b[0;36m__init__\u001b[0;34m(self, f, engine, **kwds)\u001b[0m\n\u001b[1;32m   1618\u001b[0m \u001b[0;34m\u001b[0m\u001b[0m\n\u001b[1;32m   1619\u001b[0m         \u001b[0mself\u001b[0m\u001b[0;34m.\u001b[0m\u001b[0mhandles\u001b[0m\u001b[0;34m:\u001b[0m \u001b[0mIOHandles\u001b[0m \u001b[0;34m|\u001b[0m \u001b[0;32mNone\u001b[0m \u001b[0;34m=\u001b[0m \u001b[0;32mNone\u001b[0m\u001b[0;34m\u001b[0m\u001b[0;34m\u001b[0m\u001b[0m\n\u001b[0;32m-> 1620\u001b[0;31m         \u001b[0mself\u001b[0m\u001b[0;34m.\u001b[0m\u001b[0m_engine\u001b[0m \u001b[0;34m=\u001b[0m \u001b[0mself\u001b[0m\u001b[0;34m.\u001b[0m\u001b[0m_make_engine\u001b[0m\u001b[0;34m(\u001b[0m\u001b[0mf\u001b[0m\u001b[0;34m,\u001b[0m \u001b[0mself\u001b[0m\u001b[0;34m.\u001b[0m\u001b[0mengine\u001b[0m\u001b[0;34m)\u001b[0m\u001b[0;34m\u001b[0m\u001b[0;34m\u001b[0m\u001b[0m\n\u001b[0m\u001b[1;32m   1621\u001b[0m \u001b[0;34m\u001b[0m\u001b[0m\n\u001b[1;32m   1622\u001b[0m     \u001b[0;32mdef\u001b[0m \u001b[0mclose\u001b[0m\u001b[0;34m(\u001b[0m\u001b[0mself\u001b[0m\u001b[0;34m)\u001b[0m \u001b[0;34m->\u001b[0m \u001b[0;32mNone\u001b[0m\u001b[0;34m:\u001b[0m\u001b[0;34m\u001b[0m\u001b[0;34m\u001b[0m\u001b[0m\n",
            "\u001b[0;32m/usr/local/lib/python3.11/dist-packages/pandas/io/parsers/readers.py\u001b[0m in \u001b[0;36m_make_engine\u001b[0;34m(self, f, engine)\u001b[0m\n\u001b[1;32m   1878\u001b[0m                 \u001b[0;32mif\u001b[0m \u001b[0;34m\"b\"\u001b[0m \u001b[0;32mnot\u001b[0m \u001b[0;32min\u001b[0m \u001b[0mmode\u001b[0m\u001b[0;34m:\u001b[0m\u001b[0;34m\u001b[0m\u001b[0;34m\u001b[0m\u001b[0m\n\u001b[1;32m   1879\u001b[0m                     \u001b[0mmode\u001b[0m \u001b[0;34m+=\u001b[0m \u001b[0;34m\"b\"\u001b[0m\u001b[0;34m\u001b[0m\u001b[0;34m\u001b[0m\u001b[0m\n\u001b[0;32m-> 1880\u001b[0;31m             self.handles = get_handle(\n\u001b[0m\u001b[1;32m   1881\u001b[0m                 \u001b[0mf\u001b[0m\u001b[0;34m,\u001b[0m\u001b[0;34m\u001b[0m\u001b[0;34m\u001b[0m\u001b[0m\n\u001b[1;32m   1882\u001b[0m                 \u001b[0mmode\u001b[0m\u001b[0;34m,\u001b[0m\u001b[0;34m\u001b[0m\u001b[0;34m\u001b[0m\u001b[0m\n",
            "\u001b[0;32m/usr/local/lib/python3.11/dist-packages/pandas/io/common.py\u001b[0m in \u001b[0;36mget_handle\u001b[0;34m(path_or_buf, mode, encoding, compression, memory_map, is_text, errors, storage_options)\u001b[0m\n\u001b[1;32m    871\u001b[0m         \u001b[0;32mif\u001b[0m \u001b[0mioargs\u001b[0m\u001b[0;34m.\u001b[0m\u001b[0mencoding\u001b[0m \u001b[0;32mand\u001b[0m \u001b[0;34m\"b\"\u001b[0m \u001b[0;32mnot\u001b[0m \u001b[0;32min\u001b[0m \u001b[0mioargs\u001b[0m\u001b[0;34m.\u001b[0m\u001b[0mmode\u001b[0m\u001b[0;34m:\u001b[0m\u001b[0;34m\u001b[0m\u001b[0;34m\u001b[0m\u001b[0m\n\u001b[1;32m    872\u001b[0m             \u001b[0;31m# Encoding\u001b[0m\u001b[0;34m\u001b[0m\u001b[0;34m\u001b[0m\u001b[0m\n\u001b[0;32m--> 873\u001b[0;31m             handle = open(\n\u001b[0m\u001b[1;32m    874\u001b[0m                 \u001b[0mhandle\u001b[0m\u001b[0;34m,\u001b[0m\u001b[0;34m\u001b[0m\u001b[0;34m\u001b[0m\u001b[0m\n\u001b[1;32m    875\u001b[0m                 \u001b[0mioargs\u001b[0m\u001b[0;34m.\u001b[0m\u001b[0mmode\u001b[0m\u001b[0;34m,\u001b[0m\u001b[0;34m\u001b[0m\u001b[0;34m\u001b[0m\u001b[0m\n",
            "\u001b[0;31mFileNotFoundError\u001b[0m: [Errno 2] No such file or directory: 'your_dataset.csv'"
          ]
        }
      ]
    }
  ]
}